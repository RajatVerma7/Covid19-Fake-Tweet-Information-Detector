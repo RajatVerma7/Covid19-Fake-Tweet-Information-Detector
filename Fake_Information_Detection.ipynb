{
  "cells": [
    {
      "cell_type": "code",
      "execution_count": null,
      "metadata": {
        "id": "AdYtofCTIPMy"
      },
      "outputs": [],
      "source": [
        "import pandas as pd\n",
        "from wordcloud import WordCloud, STOPWORDS \n",
        "import matplotlib.pyplot as plt \n",
        "from collections import Counter \n",
        "stopwords = set(STOPWORDS)\n",
        "import nltk\n",
        "import re\n",
        "import matplotlib.pyplot as plt\n",
        "from sklearn.feature_extraction.text import CountVectorizer, TfidfTransformer\n",
        "from sklearn.metrics import classification_report,confusion_matrix\n",
        "from sklearn.metrics import accuracy_score, f1_score, precision_score, recall_score\n",
        "from sklearn.pipeline import Pipeline\n",
        "from sklearn.linear_model import SGDClassifier, LogisticRegression\n",
        "from sklearn.ensemble import GradientBoostingClassifier\n",
        "from sklearn import tree\n",
        "import numpy as np\n",
        "import itertools"
      ]
    },
    {
      "cell_type": "code",
      "execution_count": null,
      "metadata": {
        "colab": {
          "base_uri": "https://localhost:8080/"
        },
        "id": "oUS2ot06ZM45",
        "outputId": "a2d56f1c-307e-43ac-cbde-b9daccff9aef"
      },
      "outputs": [
        {
          "output_type": "stream",
          "name": "stdout",
          "text": [
            "Mounted at /content/drive\n"
          ]
        }
      ],
      "source": [
        "from google.colab import drive\n",
        "drive.mount('/content/drive')"
      ]
    },
    {
      "cell_type": "code",
      "execution_count": null,
      "metadata": {
        "colab": {
          "base_uri": "https://localhost:8080/",
          "height": 424
        },
        "id": "TyLew9hwZpRk",
        "outputId": "1bff8f4a-fb09-4491-e531-3424f8735713"
      },
      "outputs": [
        {
          "output_type": "execute_result",
          "data": {
            "text/plain": [
              "      Unnamed: 0                                              title  \\\n",
              "0            0.0  FACEBOOK DELETES MICHIGAN ANTI-LOCKDOWN GROUP ...   \n",
              "1            1.0   Other Viewpoints: COVID-19 is worse than the flu   \n",
              "2            2.0               Bermuda's COVID-19 cases surpass 100   \n",
              "3            3.0  Purdue University says students face 'close to...   \n",
              "4            4.0  THE HIGH COST OF LOCKING DOWN AMERICA: “WE’VE ...   \n",
              "...          ...                                                ...   \n",
              "3114      2998.0              2019-nCoV: Health dept. on full alert   \n",
              "3115      2999.0  Screening machine for corona virus launched at...   \n",
              "3116      3000.0                            Coronavirus (2019-nCoV)   \n",
              "3117      3001.0  Characterizing Patients Hospitalized With COVI...   \n",
              "3118      3002.0                               Corona Virus WARNING   \n",
              "\n",
              "                                                   text      subcategory  \\\n",
              "0     Facebook has shuttered a popular group for Mic...       false news   \n",
              "1     We can now officially put to rest all comparis...             true   \n",
              "2     The Ministry of Health in Bermuda has confirme...             true   \n",
              "3     Purdue University President Mitch Daniels, the...  partially false   \n",
              "4     Locking down much of the country may have help...       false news   \n",
              "...                                                 ...              ...   \n",
              "3114  Quarantine advised for 80 persons across the S...             true   \n",
              "3115  South Sudan has begun screening all travelers ...             true   \n",
              "3116  Coronavirus (2019-nCoV) is a new respiratory i...             true   \n",
              "3117  Characterizing Patients Hospitalized With COVI...       false news   \n",
              "3118  Just something to be prepared for… but then it...       false news   \n",
              "\n",
              "      label  \n",
              "0       0.0  \n",
              "1       1.0  \n",
              "2       1.0  \n",
              "3       0.0  \n",
              "4       0.0  \n",
              "...     ...  \n",
              "3114    1.0  \n",
              "3115    1.0  \n",
              "3116    1.0  \n",
              "3117    0.0  \n",
              "3118    0.0  \n",
              "\n",
              "[3119 rows x 5 columns]"
            ],
            "text/html": [
              "\n",
              "  <div id=\"df-392d0893-ca04-41be-838d-b0a72f7ee615\">\n",
              "    <div class=\"colab-df-container\">\n",
              "      <div>\n",
              "<style scoped>\n",
              "    .dataframe tbody tr th:only-of-type {\n",
              "        vertical-align: middle;\n",
              "    }\n",
              "\n",
              "    .dataframe tbody tr th {\n",
              "        vertical-align: top;\n",
              "    }\n",
              "\n",
              "    .dataframe thead th {\n",
              "        text-align: right;\n",
              "    }\n",
              "</style>\n",
              "<table border=\"1\" class=\"dataframe\">\n",
              "  <thead>\n",
              "    <tr style=\"text-align: right;\">\n",
              "      <th></th>\n",
              "      <th>Unnamed: 0</th>\n",
              "      <th>title</th>\n",
              "      <th>text</th>\n",
              "      <th>subcategory</th>\n",
              "      <th>label</th>\n",
              "    </tr>\n",
              "  </thead>\n",
              "  <tbody>\n",
              "    <tr>\n",
              "      <th>0</th>\n",
              "      <td>0.0</td>\n",
              "      <td>FACEBOOK DELETES MICHIGAN ANTI-LOCKDOWN GROUP ...</td>\n",
              "      <td>Facebook has shuttered a popular group for Mic...</td>\n",
              "      <td>false news</td>\n",
              "      <td>0.0</td>\n",
              "    </tr>\n",
              "    <tr>\n",
              "      <th>1</th>\n",
              "      <td>1.0</td>\n",
              "      <td>Other Viewpoints: COVID-19 is worse than the flu</td>\n",
              "      <td>We can now officially put to rest all comparis...</td>\n",
              "      <td>true</td>\n",
              "      <td>1.0</td>\n",
              "    </tr>\n",
              "    <tr>\n",
              "      <th>2</th>\n",
              "      <td>2.0</td>\n",
              "      <td>Bermuda's COVID-19 cases surpass 100</td>\n",
              "      <td>The Ministry of Health in Bermuda has confirme...</td>\n",
              "      <td>true</td>\n",
              "      <td>1.0</td>\n",
              "    </tr>\n",
              "    <tr>\n",
              "      <th>3</th>\n",
              "      <td>3.0</td>\n",
              "      <td>Purdue University says students face 'close to...</td>\n",
              "      <td>Purdue University President Mitch Daniels, the...</td>\n",
              "      <td>partially false</td>\n",
              "      <td>0.0</td>\n",
              "    </tr>\n",
              "    <tr>\n",
              "      <th>4</th>\n",
              "      <td>4.0</td>\n",
              "      <td>THE HIGH COST OF LOCKING DOWN AMERICA: “WE’VE ...</td>\n",
              "      <td>Locking down much of the country may have help...</td>\n",
              "      <td>false news</td>\n",
              "      <td>0.0</td>\n",
              "    </tr>\n",
              "    <tr>\n",
              "      <th>...</th>\n",
              "      <td>...</td>\n",
              "      <td>...</td>\n",
              "      <td>...</td>\n",
              "      <td>...</td>\n",
              "      <td>...</td>\n",
              "    </tr>\n",
              "    <tr>\n",
              "      <th>3114</th>\n",
              "      <td>2998.0</td>\n",
              "      <td>2019-nCoV: Health dept. on full alert</td>\n",
              "      <td>Quarantine advised for 80 persons across the S...</td>\n",
              "      <td>true</td>\n",
              "      <td>1.0</td>\n",
              "    </tr>\n",
              "    <tr>\n",
              "      <th>3115</th>\n",
              "      <td>2999.0</td>\n",
              "      <td>Screening machine for corona virus launched at...</td>\n",
              "      <td>South Sudan has begun screening all travelers ...</td>\n",
              "      <td>true</td>\n",
              "      <td>1.0</td>\n",
              "    </tr>\n",
              "    <tr>\n",
              "      <th>3116</th>\n",
              "      <td>3000.0</td>\n",
              "      <td>Coronavirus (2019-nCoV)</td>\n",
              "      <td>Coronavirus (2019-nCoV) is a new respiratory i...</td>\n",
              "      <td>true</td>\n",
              "      <td>1.0</td>\n",
              "    </tr>\n",
              "    <tr>\n",
              "      <th>3117</th>\n",
              "      <td>3001.0</td>\n",
              "      <td>Characterizing Patients Hospitalized With COVI...</td>\n",
              "      <td>Characterizing Patients Hospitalized With COVI...</td>\n",
              "      <td>false news</td>\n",
              "      <td>0.0</td>\n",
              "    </tr>\n",
              "    <tr>\n",
              "      <th>3118</th>\n",
              "      <td>3002.0</td>\n",
              "      <td>Corona Virus WARNING</td>\n",
              "      <td>Just something to be prepared for… but then it...</td>\n",
              "      <td>false news</td>\n",
              "      <td>0.0</td>\n",
              "    </tr>\n",
              "  </tbody>\n",
              "</table>\n",
              "<p>3119 rows × 5 columns</p>\n",
              "</div>\n",
              "      <button class=\"colab-df-convert\" onclick=\"convertToInteractive('df-392d0893-ca04-41be-838d-b0a72f7ee615')\"\n",
              "              title=\"Convert this dataframe to an interactive table.\"\n",
              "              style=\"display:none;\">\n",
              "        \n",
              "  <svg xmlns=\"http://www.w3.org/2000/svg\" height=\"24px\"viewBox=\"0 0 24 24\"\n",
              "       width=\"24px\">\n",
              "    <path d=\"M0 0h24v24H0V0z\" fill=\"none\"/>\n",
              "    <path d=\"M18.56 5.44l.94 2.06.94-2.06 2.06-.94-2.06-.94-.94-2.06-.94 2.06-2.06.94zm-11 1L8.5 8.5l.94-2.06 2.06-.94-2.06-.94L8.5 2.5l-.94 2.06-2.06.94zm10 10l.94 2.06.94-2.06 2.06-.94-2.06-.94-.94-2.06-.94 2.06-2.06.94z\"/><path d=\"M17.41 7.96l-1.37-1.37c-.4-.4-.92-.59-1.43-.59-.52 0-1.04.2-1.43.59L10.3 9.45l-7.72 7.72c-.78.78-.78 2.05 0 2.83L4 21.41c.39.39.9.59 1.41.59.51 0 1.02-.2 1.41-.59l7.78-7.78 2.81-2.81c.8-.78.8-2.07 0-2.86zM5.41 20L4 18.59l7.72-7.72 1.47 1.35L5.41 20z\"/>\n",
              "  </svg>\n",
              "      </button>\n",
              "      \n",
              "  <style>\n",
              "    .colab-df-container {\n",
              "      display:flex;\n",
              "      flex-wrap:wrap;\n",
              "      gap: 12px;\n",
              "    }\n",
              "\n",
              "    .colab-df-convert {\n",
              "      background-color: #E8F0FE;\n",
              "      border: none;\n",
              "      border-radius: 50%;\n",
              "      cursor: pointer;\n",
              "      display: none;\n",
              "      fill: #1967D2;\n",
              "      height: 32px;\n",
              "      padding: 0 0 0 0;\n",
              "      width: 32px;\n",
              "    }\n",
              "\n",
              "    .colab-df-convert:hover {\n",
              "      background-color: #E2EBFA;\n",
              "      box-shadow: 0px 1px 2px rgba(60, 64, 67, 0.3), 0px 1px 3px 1px rgba(60, 64, 67, 0.15);\n",
              "      fill: #174EA6;\n",
              "    }\n",
              "\n",
              "    [theme=dark] .colab-df-convert {\n",
              "      background-color: #3B4455;\n",
              "      fill: #D2E3FC;\n",
              "    }\n",
              "\n",
              "    [theme=dark] .colab-df-convert:hover {\n",
              "      background-color: #434B5C;\n",
              "      box-shadow: 0px 1px 3px 1px rgba(0, 0, 0, 0.15);\n",
              "      filter: drop-shadow(0px 1px 2px rgba(0, 0, 0, 0.3));\n",
              "      fill: #FFFFFF;\n",
              "    }\n",
              "  </style>\n",
              "\n",
              "      <script>\n",
              "        const buttonEl =\n",
              "          document.querySelector('#df-392d0893-ca04-41be-838d-b0a72f7ee615 button.colab-df-convert');\n",
              "        buttonEl.style.display =\n",
              "          google.colab.kernel.accessAllowed ? 'block' : 'none';\n",
              "\n",
              "        async function convertToInteractive(key) {\n",
              "          const element = document.querySelector('#df-392d0893-ca04-41be-838d-b0a72f7ee615');\n",
              "          const dataTable =\n",
              "            await google.colab.kernel.invokeFunction('convertToInteractive',\n",
              "                                                     [key], {});\n",
              "          if (!dataTable) return;\n",
              "\n",
              "          const docLinkHtml = 'Like what you see? Visit the ' +\n",
              "            '<a target=\"_blank\" href=https://colab.research.google.com/notebooks/data_table.ipynb>data table notebook</a>'\n",
              "            + ' to learn more about interactive tables.';\n",
              "          element.innerHTML = '';\n",
              "          dataTable['output_type'] = 'display_data';\n",
              "          await google.colab.output.renderOutput(dataTable, element);\n",
              "          const docLink = document.createElement('div');\n",
              "          docLink.innerHTML = docLinkHtml;\n",
              "          element.appendChild(docLink);\n",
              "        }\n",
              "      </script>\n",
              "    </div>\n",
              "  </div>\n",
              "  "
            ]
          },
          "metadata": {},
          "execution_count": 3
        }
      ],
      "source": [
        "#Storing dataset into a variable 'df'\n",
        "df1 = pd.read_excel('/content/drive/My Drive/Dataset/CovidData.xlsx')\n",
        "df1"
      ]
    },
    {
      "cell_type": "code",
      "execution_count": null,
      "metadata": {
        "colab": {
          "base_uri": "https://localhost:8080/"
        },
        "id": "ebgi8jJ5cu6A",
        "outputId": "6d8eab15-ec6e-456b-ffe4-474ec7f192bd"
      },
      "outputs": [
        {
          "output_type": "stream",
          "name": "stdout",
          "text": [
            "<class 'pandas.core.frame.DataFrame'>\n",
            "RangeIndex: 3119 entries, 0 to 3118\n",
            "Data columns (total 5 columns):\n",
            " #   Column       Non-Null Count  Dtype  \n",
            "---  ------       --------------  -----  \n",
            " 0   Unnamed: 0   3119 non-null   float64\n",
            " 1   title        3118 non-null   object \n",
            " 2   text         3119 non-null   object \n",
            " 3   subcategory  3119 non-null   object \n",
            " 4   label        3119 non-null   float64\n",
            "dtypes: float64(2), object(3)\n",
            "memory usage: 122.0+ KB\n"
          ]
        }
      ],
      "source": [
        "df1.info()"
      ]
    },
    {
      "cell_type": "code",
      "execution_count": null,
      "metadata": {
        "id": "GoucAj6aaH92"
      },
      "outputs": [],
      "source": [
        "df1['combined']=df1['title']+\" \"+df1['text']"
      ]
    },
    {
      "cell_type": "code",
      "execution_count": null,
      "metadata": {
        "colab": {
          "base_uri": "https://localhost:8080/"
        },
        "id": "5AlGKDOYjGfN",
        "outputId": "58bd5e46-e7d6-4f51-a8d3-e644ff824002"
      },
      "outputs": [
        {
          "output_type": "stream",
          "name": "stdout",
          "text": [
            "<class 'pandas.core.frame.DataFrame'>\n",
            "Int64Index: 3118 entries, 0 to 3118\n",
            "Data columns (total 6 columns):\n",
            " #   Column       Non-Null Count  Dtype  \n",
            "---  ------       --------------  -----  \n",
            " 0   Unnamed: 0   3118 non-null   float64\n",
            " 1   title        3118 non-null   object \n",
            " 2   text         3118 non-null   object \n",
            " 3   subcategory  3118 non-null   object \n",
            " 4   label        3118 non-null   float64\n",
            " 5   combined     3118 non-null   object \n",
            "dtypes: float64(2), object(4)\n",
            "memory usage: 170.5+ KB\n"
          ]
        }
      ],
      "source": [
        "df1=df1.dropna(subset=['combined'])\n",
        "df1.info()"
      ]
    },
    {
      "cell_type": "code",
      "execution_count": null,
      "metadata": {
        "id": "hk3ZOuYzdgva"
      },
      "outputs": [],
      "source": [
        "df2 = pd.read_csv('/content/drive/My Drive/Dataset/Train.csv')\n",
        "df3 = pd.read_csv('/content/drive/My Drive/Dataset/Test.csv')"
      ]
    },
    {
      "cell_type": "code",
      "execution_count": null,
      "metadata": {
        "colab": {
          "base_uri": "https://localhost:8080/",
          "height": 424
        },
        "id": "uKg_Q4Tnd6uH",
        "outputId": "8d726315-e620-4c3a-ab5b-3ba3fd79a222"
      },
      "outputs": [
        {
          "output_type": "execute_result",
          "data": {
            "text/plain": [
              "        id                                              tweet label\n",
              "0        1  The CDC currently reports 99031 deaths. In gen...  real\n",
              "1        2  States reported 1121 deaths a small rise from ...  real\n",
              "2        3  Politically Correct Woman (Almost) Uses Pandem...  fake\n",
              "3        4  #IndiaFightsCorona: We have 1524 #COVID testin...  real\n",
              "4        5  Populous states can generate large case counts...  real\n",
              "...    ...                                                ...   ...\n",
              "8555  8556  Donald Trump wrongly claimed that New Zealand ...  fake\n",
              "8556  8557  Current understanding is #COVID19 spreads most...  real\n",
              "8557  8558  Nothing screams “I am sat around doing fuck al...  fake\n",
              "8558  8559  Birx says COVID-19 outbreak not under control ...  fake\n",
              "8559  8560  Another 4422 new coronavirus cases have been c...  real\n",
              "\n",
              "[8560 rows x 3 columns]"
            ],
            "text/html": [
              "\n",
              "  <div id=\"df-e8cb784b-1e8d-493f-b258-b3f4175c8dc5\">\n",
              "    <div class=\"colab-df-container\">\n",
              "      <div>\n",
              "<style scoped>\n",
              "    .dataframe tbody tr th:only-of-type {\n",
              "        vertical-align: middle;\n",
              "    }\n",
              "\n",
              "    .dataframe tbody tr th {\n",
              "        vertical-align: top;\n",
              "    }\n",
              "\n",
              "    .dataframe thead th {\n",
              "        text-align: right;\n",
              "    }\n",
              "</style>\n",
              "<table border=\"1\" class=\"dataframe\">\n",
              "  <thead>\n",
              "    <tr style=\"text-align: right;\">\n",
              "      <th></th>\n",
              "      <th>id</th>\n",
              "      <th>tweet</th>\n",
              "      <th>label</th>\n",
              "    </tr>\n",
              "  </thead>\n",
              "  <tbody>\n",
              "    <tr>\n",
              "      <th>0</th>\n",
              "      <td>1</td>\n",
              "      <td>The CDC currently reports 99031 deaths. In gen...</td>\n",
              "      <td>real</td>\n",
              "    </tr>\n",
              "    <tr>\n",
              "      <th>1</th>\n",
              "      <td>2</td>\n",
              "      <td>States reported 1121 deaths a small rise from ...</td>\n",
              "      <td>real</td>\n",
              "    </tr>\n",
              "    <tr>\n",
              "      <th>2</th>\n",
              "      <td>3</td>\n",
              "      <td>Politically Correct Woman (Almost) Uses Pandem...</td>\n",
              "      <td>fake</td>\n",
              "    </tr>\n",
              "    <tr>\n",
              "      <th>3</th>\n",
              "      <td>4</td>\n",
              "      <td>#IndiaFightsCorona: We have 1524 #COVID testin...</td>\n",
              "      <td>real</td>\n",
              "    </tr>\n",
              "    <tr>\n",
              "      <th>4</th>\n",
              "      <td>5</td>\n",
              "      <td>Populous states can generate large case counts...</td>\n",
              "      <td>real</td>\n",
              "    </tr>\n",
              "    <tr>\n",
              "      <th>...</th>\n",
              "      <td>...</td>\n",
              "      <td>...</td>\n",
              "      <td>...</td>\n",
              "    </tr>\n",
              "    <tr>\n",
              "      <th>8555</th>\n",
              "      <td>8556</td>\n",
              "      <td>Donald Trump wrongly claimed that New Zealand ...</td>\n",
              "      <td>fake</td>\n",
              "    </tr>\n",
              "    <tr>\n",
              "      <th>8556</th>\n",
              "      <td>8557</td>\n",
              "      <td>Current understanding is #COVID19 spreads most...</td>\n",
              "      <td>real</td>\n",
              "    </tr>\n",
              "    <tr>\n",
              "      <th>8557</th>\n",
              "      <td>8558</td>\n",
              "      <td>Nothing screams “I am sat around doing fuck al...</td>\n",
              "      <td>fake</td>\n",
              "    </tr>\n",
              "    <tr>\n",
              "      <th>8558</th>\n",
              "      <td>8559</td>\n",
              "      <td>Birx says COVID-19 outbreak not under control ...</td>\n",
              "      <td>fake</td>\n",
              "    </tr>\n",
              "    <tr>\n",
              "      <th>8559</th>\n",
              "      <td>8560</td>\n",
              "      <td>Another 4422 new coronavirus cases have been c...</td>\n",
              "      <td>real</td>\n",
              "    </tr>\n",
              "  </tbody>\n",
              "</table>\n",
              "<p>8560 rows × 3 columns</p>\n",
              "</div>\n",
              "      <button class=\"colab-df-convert\" onclick=\"convertToInteractive('df-e8cb784b-1e8d-493f-b258-b3f4175c8dc5')\"\n",
              "              title=\"Convert this dataframe to an interactive table.\"\n",
              "              style=\"display:none;\">\n",
              "        \n",
              "  <svg xmlns=\"http://www.w3.org/2000/svg\" height=\"24px\"viewBox=\"0 0 24 24\"\n",
              "       width=\"24px\">\n",
              "    <path d=\"M0 0h24v24H0V0z\" fill=\"none\"/>\n",
              "    <path d=\"M18.56 5.44l.94 2.06.94-2.06 2.06-.94-2.06-.94-.94-2.06-.94 2.06-2.06.94zm-11 1L8.5 8.5l.94-2.06 2.06-.94-2.06-.94L8.5 2.5l-.94 2.06-2.06.94zm10 10l.94 2.06.94-2.06 2.06-.94-2.06-.94-.94-2.06-.94 2.06-2.06.94z\"/><path d=\"M17.41 7.96l-1.37-1.37c-.4-.4-.92-.59-1.43-.59-.52 0-1.04.2-1.43.59L10.3 9.45l-7.72 7.72c-.78.78-.78 2.05 0 2.83L4 21.41c.39.39.9.59 1.41.59.51 0 1.02-.2 1.41-.59l7.78-7.78 2.81-2.81c.8-.78.8-2.07 0-2.86zM5.41 20L4 18.59l7.72-7.72 1.47 1.35L5.41 20z\"/>\n",
              "  </svg>\n",
              "      </button>\n",
              "      \n",
              "  <style>\n",
              "    .colab-df-container {\n",
              "      display:flex;\n",
              "      flex-wrap:wrap;\n",
              "      gap: 12px;\n",
              "    }\n",
              "\n",
              "    .colab-df-convert {\n",
              "      background-color: #E8F0FE;\n",
              "      border: none;\n",
              "      border-radius: 50%;\n",
              "      cursor: pointer;\n",
              "      display: none;\n",
              "      fill: #1967D2;\n",
              "      height: 32px;\n",
              "      padding: 0 0 0 0;\n",
              "      width: 32px;\n",
              "    }\n",
              "\n",
              "    .colab-df-convert:hover {\n",
              "      background-color: #E2EBFA;\n",
              "      box-shadow: 0px 1px 2px rgba(60, 64, 67, 0.3), 0px 1px 3px 1px rgba(60, 64, 67, 0.15);\n",
              "      fill: #174EA6;\n",
              "    }\n",
              "\n",
              "    [theme=dark] .colab-df-convert {\n",
              "      background-color: #3B4455;\n",
              "      fill: #D2E3FC;\n",
              "    }\n",
              "\n",
              "    [theme=dark] .colab-df-convert:hover {\n",
              "      background-color: #434B5C;\n",
              "      box-shadow: 0px 1px 3px 1px rgba(0, 0, 0, 0.15);\n",
              "      filter: drop-shadow(0px 1px 2px rgba(0, 0, 0, 0.3));\n",
              "      fill: #FFFFFF;\n",
              "    }\n",
              "  </style>\n",
              "\n",
              "      <script>\n",
              "        const buttonEl =\n",
              "          document.querySelector('#df-e8cb784b-1e8d-493f-b258-b3f4175c8dc5 button.colab-df-convert');\n",
              "        buttonEl.style.display =\n",
              "          google.colab.kernel.accessAllowed ? 'block' : 'none';\n",
              "\n",
              "        async function convertToInteractive(key) {\n",
              "          const element = document.querySelector('#df-e8cb784b-1e8d-493f-b258-b3f4175c8dc5');\n",
              "          const dataTable =\n",
              "            await google.colab.kernel.invokeFunction('convertToInteractive',\n",
              "                                                     [key], {});\n",
              "          if (!dataTable) return;\n",
              "\n",
              "          const docLinkHtml = 'Like what you see? Visit the ' +\n",
              "            '<a target=\"_blank\" href=https://colab.research.google.com/notebooks/data_table.ipynb>data table notebook</a>'\n",
              "            + ' to learn more about interactive tables.';\n",
              "          element.innerHTML = '';\n",
              "          dataTable['output_type'] = 'display_data';\n",
              "          await google.colab.output.renderOutput(dataTable, element);\n",
              "          const docLink = document.createElement('div');\n",
              "          docLink.innerHTML = docLinkHtml;\n",
              "          element.appendChild(docLink);\n",
              "        }\n",
              "      </script>\n",
              "    </div>\n",
              "  </div>\n",
              "  "
            ]
          },
          "metadata": {},
          "execution_count": 8
        }
      ],
      "source": [
        "df2"
      ]
    },
    {
      "cell_type": "code",
      "execution_count": null,
      "metadata": {
        "id": "055rNb2-eHF3"
      },
      "outputs": [],
      "source": [
        "frames=[df2,df3]\n",
        "result=pd.concat(frames)"
      ]
    },
    {
      "cell_type": "code",
      "execution_count": null,
      "metadata": {
        "colab": {
          "base_uri": "https://localhost:8080/",
          "height": 424
        },
        "id": "sgkt-UwkeceA",
        "outputId": "057a04dc-939e-4503-b2b1-6e15e4fc7040"
      },
      "outputs": [
        {
          "output_type": "execute_result",
          "data": {
            "text/plain": [
              "        id                                              tweet label\n",
              "0        1  The CDC currently reports 99031 deaths. In gen...  real\n",
              "1        2  States reported 1121 deaths a small rise from ...  real\n",
              "2        3  Politically Correct Woman (Almost) Uses Pandem...  fake\n",
              "3        4  #IndiaFightsCorona: We have 1524 #COVID testin...  real\n",
              "4        5  Populous states can generate large case counts...  real\n",
              "...    ...                                                ...   ...\n",
              "2135  2136  #CoronaVirusUpdates: State-wise details of Tot...  real\n",
              "2136  2137  Tonight 12(midnight) onwards Disaster Manageme...  fake\n",
              "2137  2138  296 new cases of #COVID19Nigeria; Plateau-85 E...  real\n",
              "2138  2139  RT @CDCemergency: #DYK? @CDCgov’s One-Stop Sho...  real\n",
              "2139  2140  More than half of pregnant women recently admi...  real\n",
              "\n",
              "[10700 rows x 3 columns]"
            ],
            "text/html": [
              "\n",
              "  <div id=\"df-8bbc6498-1f08-4452-a975-b35e74b0968f\">\n",
              "    <div class=\"colab-df-container\">\n",
              "      <div>\n",
              "<style scoped>\n",
              "    .dataframe tbody tr th:only-of-type {\n",
              "        vertical-align: middle;\n",
              "    }\n",
              "\n",
              "    .dataframe tbody tr th {\n",
              "        vertical-align: top;\n",
              "    }\n",
              "\n",
              "    .dataframe thead th {\n",
              "        text-align: right;\n",
              "    }\n",
              "</style>\n",
              "<table border=\"1\" class=\"dataframe\">\n",
              "  <thead>\n",
              "    <tr style=\"text-align: right;\">\n",
              "      <th></th>\n",
              "      <th>id</th>\n",
              "      <th>tweet</th>\n",
              "      <th>label</th>\n",
              "    </tr>\n",
              "  </thead>\n",
              "  <tbody>\n",
              "    <tr>\n",
              "      <th>0</th>\n",
              "      <td>1</td>\n",
              "      <td>The CDC currently reports 99031 deaths. In gen...</td>\n",
              "      <td>real</td>\n",
              "    </tr>\n",
              "    <tr>\n",
              "      <th>1</th>\n",
              "      <td>2</td>\n",
              "      <td>States reported 1121 deaths a small rise from ...</td>\n",
              "      <td>real</td>\n",
              "    </tr>\n",
              "    <tr>\n",
              "      <th>2</th>\n",
              "      <td>3</td>\n",
              "      <td>Politically Correct Woman (Almost) Uses Pandem...</td>\n",
              "      <td>fake</td>\n",
              "    </tr>\n",
              "    <tr>\n",
              "      <th>3</th>\n",
              "      <td>4</td>\n",
              "      <td>#IndiaFightsCorona: We have 1524 #COVID testin...</td>\n",
              "      <td>real</td>\n",
              "    </tr>\n",
              "    <tr>\n",
              "      <th>4</th>\n",
              "      <td>5</td>\n",
              "      <td>Populous states can generate large case counts...</td>\n",
              "      <td>real</td>\n",
              "    </tr>\n",
              "    <tr>\n",
              "      <th>...</th>\n",
              "      <td>...</td>\n",
              "      <td>...</td>\n",
              "      <td>...</td>\n",
              "    </tr>\n",
              "    <tr>\n",
              "      <th>2135</th>\n",
              "      <td>2136</td>\n",
              "      <td>#CoronaVirusUpdates: State-wise details of Tot...</td>\n",
              "      <td>real</td>\n",
              "    </tr>\n",
              "    <tr>\n",
              "      <th>2136</th>\n",
              "      <td>2137</td>\n",
              "      <td>Tonight 12(midnight) onwards Disaster Manageme...</td>\n",
              "      <td>fake</td>\n",
              "    </tr>\n",
              "    <tr>\n",
              "      <th>2137</th>\n",
              "      <td>2138</td>\n",
              "      <td>296 new cases of #COVID19Nigeria; Plateau-85 E...</td>\n",
              "      <td>real</td>\n",
              "    </tr>\n",
              "    <tr>\n",
              "      <th>2138</th>\n",
              "      <td>2139</td>\n",
              "      <td>RT @CDCemergency: #DYK? @CDCgov’s One-Stop Sho...</td>\n",
              "      <td>real</td>\n",
              "    </tr>\n",
              "    <tr>\n",
              "      <th>2139</th>\n",
              "      <td>2140</td>\n",
              "      <td>More than half of pregnant women recently admi...</td>\n",
              "      <td>real</td>\n",
              "    </tr>\n",
              "  </tbody>\n",
              "</table>\n",
              "<p>10700 rows × 3 columns</p>\n",
              "</div>\n",
              "      <button class=\"colab-df-convert\" onclick=\"convertToInteractive('df-8bbc6498-1f08-4452-a975-b35e74b0968f')\"\n",
              "              title=\"Convert this dataframe to an interactive table.\"\n",
              "              style=\"display:none;\">\n",
              "        \n",
              "  <svg xmlns=\"http://www.w3.org/2000/svg\" height=\"24px\"viewBox=\"0 0 24 24\"\n",
              "       width=\"24px\">\n",
              "    <path d=\"M0 0h24v24H0V0z\" fill=\"none\"/>\n",
              "    <path d=\"M18.56 5.44l.94 2.06.94-2.06 2.06-.94-2.06-.94-.94-2.06-.94 2.06-2.06.94zm-11 1L8.5 8.5l.94-2.06 2.06-.94-2.06-.94L8.5 2.5l-.94 2.06-2.06.94zm10 10l.94 2.06.94-2.06 2.06-.94-2.06-.94-.94-2.06-.94 2.06-2.06.94z\"/><path d=\"M17.41 7.96l-1.37-1.37c-.4-.4-.92-.59-1.43-.59-.52 0-1.04.2-1.43.59L10.3 9.45l-7.72 7.72c-.78.78-.78 2.05 0 2.83L4 21.41c.39.39.9.59 1.41.59.51 0 1.02-.2 1.41-.59l7.78-7.78 2.81-2.81c.8-.78.8-2.07 0-2.86zM5.41 20L4 18.59l7.72-7.72 1.47 1.35L5.41 20z\"/>\n",
              "  </svg>\n",
              "      </button>\n",
              "      \n",
              "  <style>\n",
              "    .colab-df-container {\n",
              "      display:flex;\n",
              "      flex-wrap:wrap;\n",
              "      gap: 12px;\n",
              "    }\n",
              "\n",
              "    .colab-df-convert {\n",
              "      background-color: #E8F0FE;\n",
              "      border: none;\n",
              "      border-radius: 50%;\n",
              "      cursor: pointer;\n",
              "      display: none;\n",
              "      fill: #1967D2;\n",
              "      height: 32px;\n",
              "      padding: 0 0 0 0;\n",
              "      width: 32px;\n",
              "    }\n",
              "\n",
              "    .colab-df-convert:hover {\n",
              "      background-color: #E2EBFA;\n",
              "      box-shadow: 0px 1px 2px rgba(60, 64, 67, 0.3), 0px 1px 3px 1px rgba(60, 64, 67, 0.15);\n",
              "      fill: #174EA6;\n",
              "    }\n",
              "\n",
              "    [theme=dark] .colab-df-convert {\n",
              "      background-color: #3B4455;\n",
              "      fill: #D2E3FC;\n",
              "    }\n",
              "\n",
              "    [theme=dark] .colab-df-convert:hover {\n",
              "      background-color: #434B5C;\n",
              "      box-shadow: 0px 1px 3px 1px rgba(0, 0, 0, 0.15);\n",
              "      filter: drop-shadow(0px 1px 2px rgba(0, 0, 0, 0.3));\n",
              "      fill: #FFFFFF;\n",
              "    }\n",
              "  </style>\n",
              "\n",
              "      <script>\n",
              "        const buttonEl =\n",
              "          document.querySelector('#df-8bbc6498-1f08-4452-a975-b35e74b0968f button.colab-df-convert');\n",
              "        buttonEl.style.display =\n",
              "          google.colab.kernel.accessAllowed ? 'block' : 'none';\n",
              "\n",
              "        async function convertToInteractive(key) {\n",
              "          const element = document.querySelector('#df-8bbc6498-1f08-4452-a975-b35e74b0968f');\n",
              "          const dataTable =\n",
              "            await google.colab.kernel.invokeFunction('convertToInteractive',\n",
              "                                                     [key], {});\n",
              "          if (!dataTable) return;\n",
              "\n",
              "          const docLinkHtml = 'Like what you see? Visit the ' +\n",
              "            '<a target=\"_blank\" href=https://colab.research.google.com/notebooks/data_table.ipynb>data table notebook</a>'\n",
              "            + ' to learn more about interactive tables.';\n",
              "          element.innerHTML = '';\n",
              "          dataTable['output_type'] = 'display_data';\n",
              "          await google.colab.output.renderOutput(dataTable, element);\n",
              "          const docLink = document.createElement('div');\n",
              "          docLink.innerHTML = docLinkHtml;\n",
              "          element.appendChild(docLink);\n",
              "        }\n",
              "      </script>\n",
              "    </div>\n",
              "  </div>\n",
              "  "
            ]
          },
          "metadata": {},
          "execution_count": 10
        }
      ],
      "source": [
        "result"
      ]
    },
    {
      "cell_type": "code",
      "execution_count": null,
      "metadata": {
        "id": "B-ezSXqgf7BU"
      },
      "outputs": [],
      "source": [
        "l=result.shape[0]\n",
        "lis=[]"
      ]
    },
    {
      "cell_type": "code",
      "execution_count": null,
      "metadata": {
        "id": "WS_F-J7zelt7"
      },
      "outputs": [],
      "source": [
        "for x in range(0,l):\n",
        "  if result.iloc[x][2] == \"real\":\n",
        "    lis.append(1)\n",
        "  else:\n",
        "    lis.append(0)"
      ]
    },
    {
      "cell_type": "code",
      "execution_count": null,
      "metadata": {
        "colab": {
          "base_uri": "https://localhost:8080/"
        },
        "id": "xjdcRh6WjMpc",
        "outputId": "021a60ca-c90f-471c-bd9a-7215951b8ba1"
      },
      "outputs": [
        {
          "output_type": "execute_result",
          "data": {
            "text/plain": [
              "Index(['Unnamed: 0', 'title', 'text', 'subcategory', 'label', 'combined'], dtype='object')"
            ]
          },
          "metadata": {},
          "execution_count": 13
        }
      ],
      "source": [
        "df1.columns"
      ]
    },
    {
      "cell_type": "code",
      "execution_count": null,
      "metadata": {
        "id": "J6-PFzERjiEK"
      },
      "outputs": [],
      "source": [
        "df1=df1.drop(axis=1, columns=['Unnamed: 0','subcategory', 'text', 'title'])\n"
      ]
    },
    {
      "cell_type": "code",
      "execution_count": null,
      "metadata": {
        "id": "MRHbLboojyq_"
      },
      "outputs": [],
      "source": [
        "result['combined']=result['tweet']\n",
        "result=result.drop(axis=1, columns=['id','label', 'tweet'])\n",
        "result[\"label\"]=lis\n"
      ]
    },
    {
      "cell_type": "code",
      "execution_count": null,
      "metadata": {
        "colab": {
          "base_uri": "https://localhost:8080/",
          "height": 424
        },
        "id": "TazVy1EekwtH",
        "outputId": "d05372d9-f973-4b7a-a741-34be7b345049"
      },
      "outputs": [
        {
          "output_type": "execute_result",
          "data": {
            "text/plain": [
              "                                               combined  label\n",
              "0     The CDC currently reports 99031 deaths. In gen...      1\n",
              "1     States reported 1121 deaths a small rise from ...      1\n",
              "2     Politically Correct Woman (Almost) Uses Pandem...      0\n",
              "3     #IndiaFightsCorona: We have 1524 #COVID testin...      1\n",
              "4     Populous states can generate large case counts...      1\n",
              "...                                                 ...    ...\n",
              "2135  #CoronaVirusUpdates: State-wise details of Tot...      1\n",
              "2136  Tonight 12(midnight) onwards Disaster Manageme...      0\n",
              "2137  296 new cases of #COVID19Nigeria; Plateau-85 E...      1\n",
              "2138  RT @CDCemergency: #DYK? @CDCgov’s One-Stop Sho...      1\n",
              "2139  More than half of pregnant women recently admi...      1\n",
              "\n",
              "[10700 rows x 2 columns]"
            ],
            "text/html": [
              "\n",
              "  <div id=\"df-3e562ac1-f323-4bbf-b431-dc782d0549b3\">\n",
              "    <div class=\"colab-df-container\">\n",
              "      <div>\n",
              "<style scoped>\n",
              "    .dataframe tbody tr th:only-of-type {\n",
              "        vertical-align: middle;\n",
              "    }\n",
              "\n",
              "    .dataframe tbody tr th {\n",
              "        vertical-align: top;\n",
              "    }\n",
              "\n",
              "    .dataframe thead th {\n",
              "        text-align: right;\n",
              "    }\n",
              "</style>\n",
              "<table border=\"1\" class=\"dataframe\">\n",
              "  <thead>\n",
              "    <tr style=\"text-align: right;\">\n",
              "      <th></th>\n",
              "      <th>combined</th>\n",
              "      <th>label</th>\n",
              "    </tr>\n",
              "  </thead>\n",
              "  <tbody>\n",
              "    <tr>\n",
              "      <th>0</th>\n",
              "      <td>The CDC currently reports 99031 deaths. In gen...</td>\n",
              "      <td>1</td>\n",
              "    </tr>\n",
              "    <tr>\n",
              "      <th>1</th>\n",
              "      <td>States reported 1121 deaths a small rise from ...</td>\n",
              "      <td>1</td>\n",
              "    </tr>\n",
              "    <tr>\n",
              "      <th>2</th>\n",
              "      <td>Politically Correct Woman (Almost) Uses Pandem...</td>\n",
              "      <td>0</td>\n",
              "    </tr>\n",
              "    <tr>\n",
              "      <th>3</th>\n",
              "      <td>#IndiaFightsCorona: We have 1524 #COVID testin...</td>\n",
              "      <td>1</td>\n",
              "    </tr>\n",
              "    <tr>\n",
              "      <th>4</th>\n",
              "      <td>Populous states can generate large case counts...</td>\n",
              "      <td>1</td>\n",
              "    </tr>\n",
              "    <tr>\n",
              "      <th>...</th>\n",
              "      <td>...</td>\n",
              "      <td>...</td>\n",
              "    </tr>\n",
              "    <tr>\n",
              "      <th>2135</th>\n",
              "      <td>#CoronaVirusUpdates: State-wise details of Tot...</td>\n",
              "      <td>1</td>\n",
              "    </tr>\n",
              "    <tr>\n",
              "      <th>2136</th>\n",
              "      <td>Tonight 12(midnight) onwards Disaster Manageme...</td>\n",
              "      <td>0</td>\n",
              "    </tr>\n",
              "    <tr>\n",
              "      <th>2137</th>\n",
              "      <td>296 new cases of #COVID19Nigeria; Plateau-85 E...</td>\n",
              "      <td>1</td>\n",
              "    </tr>\n",
              "    <tr>\n",
              "      <th>2138</th>\n",
              "      <td>RT @CDCemergency: #DYK? @CDCgov’s One-Stop Sho...</td>\n",
              "      <td>1</td>\n",
              "    </tr>\n",
              "    <tr>\n",
              "      <th>2139</th>\n",
              "      <td>More than half of pregnant women recently admi...</td>\n",
              "      <td>1</td>\n",
              "    </tr>\n",
              "  </tbody>\n",
              "</table>\n",
              "<p>10700 rows × 2 columns</p>\n",
              "</div>\n",
              "      <button class=\"colab-df-convert\" onclick=\"convertToInteractive('df-3e562ac1-f323-4bbf-b431-dc782d0549b3')\"\n",
              "              title=\"Convert this dataframe to an interactive table.\"\n",
              "              style=\"display:none;\">\n",
              "        \n",
              "  <svg xmlns=\"http://www.w3.org/2000/svg\" height=\"24px\"viewBox=\"0 0 24 24\"\n",
              "       width=\"24px\">\n",
              "    <path d=\"M0 0h24v24H0V0z\" fill=\"none\"/>\n",
              "    <path d=\"M18.56 5.44l.94 2.06.94-2.06 2.06-.94-2.06-.94-.94-2.06-.94 2.06-2.06.94zm-11 1L8.5 8.5l.94-2.06 2.06-.94-2.06-.94L8.5 2.5l-.94 2.06-2.06.94zm10 10l.94 2.06.94-2.06 2.06-.94-2.06-.94-.94-2.06-.94 2.06-2.06.94z\"/><path d=\"M17.41 7.96l-1.37-1.37c-.4-.4-.92-.59-1.43-.59-.52 0-1.04.2-1.43.59L10.3 9.45l-7.72 7.72c-.78.78-.78 2.05 0 2.83L4 21.41c.39.39.9.59 1.41.59.51 0 1.02-.2 1.41-.59l7.78-7.78 2.81-2.81c.8-.78.8-2.07 0-2.86zM5.41 20L4 18.59l7.72-7.72 1.47 1.35L5.41 20z\"/>\n",
              "  </svg>\n",
              "      </button>\n",
              "      \n",
              "  <style>\n",
              "    .colab-df-container {\n",
              "      display:flex;\n",
              "      flex-wrap:wrap;\n",
              "      gap: 12px;\n",
              "    }\n",
              "\n",
              "    .colab-df-convert {\n",
              "      background-color: #E8F0FE;\n",
              "      border: none;\n",
              "      border-radius: 50%;\n",
              "      cursor: pointer;\n",
              "      display: none;\n",
              "      fill: #1967D2;\n",
              "      height: 32px;\n",
              "      padding: 0 0 0 0;\n",
              "      width: 32px;\n",
              "    }\n",
              "\n",
              "    .colab-df-convert:hover {\n",
              "      background-color: #E2EBFA;\n",
              "      box-shadow: 0px 1px 2px rgba(60, 64, 67, 0.3), 0px 1px 3px 1px rgba(60, 64, 67, 0.15);\n",
              "      fill: #174EA6;\n",
              "    }\n",
              "\n",
              "    [theme=dark] .colab-df-convert {\n",
              "      background-color: #3B4455;\n",
              "      fill: #D2E3FC;\n",
              "    }\n",
              "\n",
              "    [theme=dark] .colab-df-convert:hover {\n",
              "      background-color: #434B5C;\n",
              "      box-shadow: 0px 1px 3px 1px rgba(0, 0, 0, 0.15);\n",
              "      filter: drop-shadow(0px 1px 2px rgba(0, 0, 0, 0.3));\n",
              "      fill: #FFFFFF;\n",
              "    }\n",
              "  </style>\n",
              "\n",
              "      <script>\n",
              "        const buttonEl =\n",
              "          document.querySelector('#df-3e562ac1-f323-4bbf-b431-dc782d0549b3 button.colab-df-convert');\n",
              "        buttonEl.style.display =\n",
              "          google.colab.kernel.accessAllowed ? 'block' : 'none';\n",
              "\n",
              "        async function convertToInteractive(key) {\n",
              "          const element = document.querySelector('#df-3e562ac1-f323-4bbf-b431-dc782d0549b3');\n",
              "          const dataTable =\n",
              "            await google.colab.kernel.invokeFunction('convertToInteractive',\n",
              "                                                     [key], {});\n",
              "          if (!dataTable) return;\n",
              "\n",
              "          const docLinkHtml = 'Like what you see? Visit the ' +\n",
              "            '<a target=\"_blank\" href=https://colab.research.google.com/notebooks/data_table.ipynb>data table notebook</a>'\n",
              "            + ' to learn more about interactive tables.';\n",
              "          element.innerHTML = '';\n",
              "          dataTable['output_type'] = 'display_data';\n",
              "          await google.colab.output.renderOutput(dataTable, element);\n",
              "          const docLink = document.createElement('div');\n",
              "          docLink.innerHTML = docLinkHtml;\n",
              "          element.appendChild(docLink);\n",
              "        }\n",
              "      </script>\n",
              "    </div>\n",
              "  </div>\n",
              "  "
            ]
          },
          "metadata": {},
          "execution_count": 16
        }
      ],
      "source": [
        "result"
      ]
    },
    {
      "cell_type": "code",
      "execution_count": null,
      "metadata": {
        "colab": {
          "base_uri": "https://localhost:8080/",
          "height": 424
        },
        "id": "infG1yMNlCDL",
        "outputId": "b68ee281-63a0-4e43-80a4-888df5b48ce3"
      },
      "outputs": [
        {
          "output_type": "execute_result",
          "data": {
            "text/plain": [
              "      label                                           combined\n",
              "0       0.0  FACEBOOK DELETES MICHIGAN ANTI-LOCKDOWN GROUP ...\n",
              "1       1.0  Other Viewpoints: COVID-19 is worse than the f...\n",
              "2       1.0  Bermuda's COVID-19 cases surpass 100 The Minis...\n",
              "3       0.0  Purdue University says students face 'close to...\n",
              "4       0.0  THE HIGH COST OF LOCKING DOWN AMERICA: “WE’VE ...\n",
              "...     ...                                                ...\n",
              "3114    1.0  2019-nCoV: Health dept. on full alert Quaranti...\n",
              "3115    1.0  Screening machine for corona virus launched at...\n",
              "3116    1.0  Coronavirus (2019-nCoV) Coronavirus (2019-nCoV...\n",
              "3117    0.0  Characterizing Patients Hospitalized With COVI...\n",
              "3118    0.0  Corona Virus WARNING Just something to be prep...\n",
              "\n",
              "[3118 rows x 2 columns]"
            ],
            "text/html": [
              "\n",
              "  <div id=\"df-f961791b-587e-40e4-b265-815f0a891c8d\">\n",
              "    <div class=\"colab-df-container\">\n",
              "      <div>\n",
              "<style scoped>\n",
              "    .dataframe tbody tr th:only-of-type {\n",
              "        vertical-align: middle;\n",
              "    }\n",
              "\n",
              "    .dataframe tbody tr th {\n",
              "        vertical-align: top;\n",
              "    }\n",
              "\n",
              "    .dataframe thead th {\n",
              "        text-align: right;\n",
              "    }\n",
              "</style>\n",
              "<table border=\"1\" class=\"dataframe\">\n",
              "  <thead>\n",
              "    <tr style=\"text-align: right;\">\n",
              "      <th></th>\n",
              "      <th>label</th>\n",
              "      <th>combined</th>\n",
              "    </tr>\n",
              "  </thead>\n",
              "  <tbody>\n",
              "    <tr>\n",
              "      <th>0</th>\n",
              "      <td>0.0</td>\n",
              "      <td>FACEBOOK DELETES MICHIGAN ANTI-LOCKDOWN GROUP ...</td>\n",
              "    </tr>\n",
              "    <tr>\n",
              "      <th>1</th>\n",
              "      <td>1.0</td>\n",
              "      <td>Other Viewpoints: COVID-19 is worse than the f...</td>\n",
              "    </tr>\n",
              "    <tr>\n",
              "      <th>2</th>\n",
              "      <td>1.0</td>\n",
              "      <td>Bermuda's COVID-19 cases surpass 100 The Minis...</td>\n",
              "    </tr>\n",
              "    <tr>\n",
              "      <th>3</th>\n",
              "      <td>0.0</td>\n",
              "      <td>Purdue University says students face 'close to...</td>\n",
              "    </tr>\n",
              "    <tr>\n",
              "      <th>4</th>\n",
              "      <td>0.0</td>\n",
              "      <td>THE HIGH COST OF LOCKING DOWN AMERICA: “WE’VE ...</td>\n",
              "    </tr>\n",
              "    <tr>\n",
              "      <th>...</th>\n",
              "      <td>...</td>\n",
              "      <td>...</td>\n",
              "    </tr>\n",
              "    <tr>\n",
              "      <th>3114</th>\n",
              "      <td>1.0</td>\n",
              "      <td>2019-nCoV: Health dept. on full alert Quaranti...</td>\n",
              "    </tr>\n",
              "    <tr>\n",
              "      <th>3115</th>\n",
              "      <td>1.0</td>\n",
              "      <td>Screening machine for corona virus launched at...</td>\n",
              "    </tr>\n",
              "    <tr>\n",
              "      <th>3116</th>\n",
              "      <td>1.0</td>\n",
              "      <td>Coronavirus (2019-nCoV) Coronavirus (2019-nCoV...</td>\n",
              "    </tr>\n",
              "    <tr>\n",
              "      <th>3117</th>\n",
              "      <td>0.0</td>\n",
              "      <td>Characterizing Patients Hospitalized With COVI...</td>\n",
              "    </tr>\n",
              "    <tr>\n",
              "      <th>3118</th>\n",
              "      <td>0.0</td>\n",
              "      <td>Corona Virus WARNING Just something to be prep...</td>\n",
              "    </tr>\n",
              "  </tbody>\n",
              "</table>\n",
              "<p>3118 rows × 2 columns</p>\n",
              "</div>\n",
              "      <button class=\"colab-df-convert\" onclick=\"convertToInteractive('df-f961791b-587e-40e4-b265-815f0a891c8d')\"\n",
              "              title=\"Convert this dataframe to an interactive table.\"\n",
              "              style=\"display:none;\">\n",
              "        \n",
              "  <svg xmlns=\"http://www.w3.org/2000/svg\" height=\"24px\"viewBox=\"0 0 24 24\"\n",
              "       width=\"24px\">\n",
              "    <path d=\"M0 0h24v24H0V0z\" fill=\"none\"/>\n",
              "    <path d=\"M18.56 5.44l.94 2.06.94-2.06 2.06-.94-2.06-.94-.94-2.06-.94 2.06-2.06.94zm-11 1L8.5 8.5l.94-2.06 2.06-.94-2.06-.94L8.5 2.5l-.94 2.06-2.06.94zm10 10l.94 2.06.94-2.06 2.06-.94-2.06-.94-.94-2.06-.94 2.06-2.06.94z\"/><path d=\"M17.41 7.96l-1.37-1.37c-.4-.4-.92-.59-1.43-.59-.52 0-1.04.2-1.43.59L10.3 9.45l-7.72 7.72c-.78.78-.78 2.05 0 2.83L4 21.41c.39.39.9.59 1.41.59.51 0 1.02-.2 1.41-.59l7.78-7.78 2.81-2.81c.8-.78.8-2.07 0-2.86zM5.41 20L4 18.59l7.72-7.72 1.47 1.35L5.41 20z\"/>\n",
              "  </svg>\n",
              "      </button>\n",
              "      \n",
              "  <style>\n",
              "    .colab-df-container {\n",
              "      display:flex;\n",
              "      flex-wrap:wrap;\n",
              "      gap: 12px;\n",
              "    }\n",
              "\n",
              "    .colab-df-convert {\n",
              "      background-color: #E8F0FE;\n",
              "      border: none;\n",
              "      border-radius: 50%;\n",
              "      cursor: pointer;\n",
              "      display: none;\n",
              "      fill: #1967D2;\n",
              "      height: 32px;\n",
              "      padding: 0 0 0 0;\n",
              "      width: 32px;\n",
              "    }\n",
              "\n",
              "    .colab-df-convert:hover {\n",
              "      background-color: #E2EBFA;\n",
              "      box-shadow: 0px 1px 2px rgba(60, 64, 67, 0.3), 0px 1px 3px 1px rgba(60, 64, 67, 0.15);\n",
              "      fill: #174EA6;\n",
              "    }\n",
              "\n",
              "    [theme=dark] .colab-df-convert {\n",
              "      background-color: #3B4455;\n",
              "      fill: #D2E3FC;\n",
              "    }\n",
              "\n",
              "    [theme=dark] .colab-df-convert:hover {\n",
              "      background-color: #434B5C;\n",
              "      box-shadow: 0px 1px 3px 1px rgba(0, 0, 0, 0.15);\n",
              "      filter: drop-shadow(0px 1px 2px rgba(0, 0, 0, 0.3));\n",
              "      fill: #FFFFFF;\n",
              "    }\n",
              "  </style>\n",
              "\n",
              "      <script>\n",
              "        const buttonEl =\n",
              "          document.querySelector('#df-f961791b-587e-40e4-b265-815f0a891c8d button.colab-df-convert');\n",
              "        buttonEl.style.display =\n",
              "          google.colab.kernel.accessAllowed ? 'block' : 'none';\n",
              "\n",
              "        async function convertToInteractive(key) {\n",
              "          const element = document.querySelector('#df-f961791b-587e-40e4-b265-815f0a891c8d');\n",
              "          const dataTable =\n",
              "            await google.colab.kernel.invokeFunction('convertToInteractive',\n",
              "                                                     [key], {});\n",
              "          if (!dataTable) return;\n",
              "\n",
              "          const docLinkHtml = 'Like what you see? Visit the ' +\n",
              "            '<a target=\"_blank\" href=https://colab.research.google.com/notebooks/data_table.ipynb>data table notebook</a>'\n",
              "            + ' to learn more about interactive tables.';\n",
              "          element.innerHTML = '';\n",
              "          dataTable['output_type'] = 'display_data';\n",
              "          await google.colab.output.renderOutput(dataTable, element);\n",
              "          const docLink = document.createElement('div');\n",
              "          docLink.innerHTML = docLinkHtml;\n",
              "          element.appendChild(docLink);\n",
              "        }\n",
              "      </script>\n",
              "    </div>\n",
              "  </div>\n",
              "  "
            ]
          },
          "metadata": {},
          "execution_count": 17
        }
      ],
      "source": [
        "df1"
      ]
    },
    {
      "cell_type": "code",
      "execution_count": null,
      "metadata": {
        "colab": {
          "base_uri": "https://localhost:8080/"
        },
        "id": "Kkv1el3HceZd",
        "outputId": "0d8a9f6e-67b4-47dc-95e9-a0f16dadac5c"
      },
      "outputs": [
        {
          "output_type": "execute_result",
          "data": {
            "text/plain": [
              "1.0    2061\n",
              "0.0    1057\n",
              "Name: label, dtype: int64"
            ]
          },
          "metadata": {},
          "execution_count": 18
        }
      ],
      "source": [
        "df1['label'].value_counts()"
      ]
    },
    {
      "cell_type": "code",
      "execution_count": null,
      "metadata": {
        "id": "I5ngV9gpl3Gu"
      },
      "outputs": [],
      "source": [
        "frames=[df1, result]\n",
        "df=pd.concat(frames)"
      ]
    },
    {
      "cell_type": "code",
      "execution_count": null,
      "metadata": {
        "colab": {
          "base_uri": "https://localhost:8080/",
          "height": 424
        },
        "id": "1o0qQ1_4l8Ck",
        "outputId": "c575d88d-4ef4-46b2-ff78-0def46f251fc"
      },
      "outputs": [
        {
          "output_type": "execute_result",
          "data": {
            "text/plain": [
              "      label                                           combined\n",
              "0       0.0  FACEBOOK DELETES MICHIGAN ANTI-LOCKDOWN GROUP ...\n",
              "1       1.0  Other Viewpoints: COVID-19 is worse than the f...\n",
              "2       1.0  Bermuda's COVID-19 cases surpass 100 The Minis...\n",
              "3       0.0  Purdue University says students face 'close to...\n",
              "4       0.0  THE HIGH COST OF LOCKING DOWN AMERICA: “WE’VE ...\n",
              "...     ...                                                ...\n",
              "2135    1.0  #CoronaVirusUpdates: State-wise details of Tot...\n",
              "2136    0.0  Tonight 12(midnight) onwards Disaster Manageme...\n",
              "2137    1.0  296 new cases of #COVID19Nigeria; Plateau-85 E...\n",
              "2138    1.0  RT @CDCemergency: #DYK? @CDCgov’s One-Stop Sho...\n",
              "2139    1.0  More than half of pregnant women recently admi...\n",
              "\n",
              "[13818 rows x 2 columns]"
            ],
            "text/html": [
              "\n",
              "  <div id=\"df-df99e28c-4abf-40fe-bf5c-de7747805044\">\n",
              "    <div class=\"colab-df-container\">\n",
              "      <div>\n",
              "<style scoped>\n",
              "    .dataframe tbody tr th:only-of-type {\n",
              "        vertical-align: middle;\n",
              "    }\n",
              "\n",
              "    .dataframe tbody tr th {\n",
              "        vertical-align: top;\n",
              "    }\n",
              "\n",
              "    .dataframe thead th {\n",
              "        text-align: right;\n",
              "    }\n",
              "</style>\n",
              "<table border=\"1\" class=\"dataframe\">\n",
              "  <thead>\n",
              "    <tr style=\"text-align: right;\">\n",
              "      <th></th>\n",
              "      <th>label</th>\n",
              "      <th>combined</th>\n",
              "    </tr>\n",
              "  </thead>\n",
              "  <tbody>\n",
              "    <tr>\n",
              "      <th>0</th>\n",
              "      <td>0.0</td>\n",
              "      <td>FACEBOOK DELETES MICHIGAN ANTI-LOCKDOWN GROUP ...</td>\n",
              "    </tr>\n",
              "    <tr>\n",
              "      <th>1</th>\n",
              "      <td>1.0</td>\n",
              "      <td>Other Viewpoints: COVID-19 is worse than the f...</td>\n",
              "    </tr>\n",
              "    <tr>\n",
              "      <th>2</th>\n",
              "      <td>1.0</td>\n",
              "      <td>Bermuda's COVID-19 cases surpass 100 The Minis...</td>\n",
              "    </tr>\n",
              "    <tr>\n",
              "      <th>3</th>\n",
              "      <td>0.0</td>\n",
              "      <td>Purdue University says students face 'close to...</td>\n",
              "    </tr>\n",
              "    <tr>\n",
              "      <th>4</th>\n",
              "      <td>0.0</td>\n",
              "      <td>THE HIGH COST OF LOCKING DOWN AMERICA: “WE’VE ...</td>\n",
              "    </tr>\n",
              "    <tr>\n",
              "      <th>...</th>\n",
              "      <td>...</td>\n",
              "      <td>...</td>\n",
              "    </tr>\n",
              "    <tr>\n",
              "      <th>2135</th>\n",
              "      <td>1.0</td>\n",
              "      <td>#CoronaVirusUpdates: State-wise details of Tot...</td>\n",
              "    </tr>\n",
              "    <tr>\n",
              "      <th>2136</th>\n",
              "      <td>0.0</td>\n",
              "      <td>Tonight 12(midnight) onwards Disaster Manageme...</td>\n",
              "    </tr>\n",
              "    <tr>\n",
              "      <th>2137</th>\n",
              "      <td>1.0</td>\n",
              "      <td>296 new cases of #COVID19Nigeria; Plateau-85 E...</td>\n",
              "    </tr>\n",
              "    <tr>\n",
              "      <th>2138</th>\n",
              "      <td>1.0</td>\n",
              "      <td>RT @CDCemergency: #DYK? @CDCgov’s One-Stop Sho...</td>\n",
              "    </tr>\n",
              "    <tr>\n",
              "      <th>2139</th>\n",
              "      <td>1.0</td>\n",
              "      <td>More than half of pregnant women recently admi...</td>\n",
              "    </tr>\n",
              "  </tbody>\n",
              "</table>\n",
              "<p>13818 rows × 2 columns</p>\n",
              "</div>\n",
              "      <button class=\"colab-df-convert\" onclick=\"convertToInteractive('df-df99e28c-4abf-40fe-bf5c-de7747805044')\"\n",
              "              title=\"Convert this dataframe to an interactive table.\"\n",
              "              style=\"display:none;\">\n",
              "        \n",
              "  <svg xmlns=\"http://www.w3.org/2000/svg\" height=\"24px\"viewBox=\"0 0 24 24\"\n",
              "       width=\"24px\">\n",
              "    <path d=\"M0 0h24v24H0V0z\" fill=\"none\"/>\n",
              "    <path d=\"M18.56 5.44l.94 2.06.94-2.06 2.06-.94-2.06-.94-.94-2.06-.94 2.06-2.06.94zm-11 1L8.5 8.5l.94-2.06 2.06-.94-2.06-.94L8.5 2.5l-.94 2.06-2.06.94zm10 10l.94 2.06.94-2.06 2.06-.94-2.06-.94-.94-2.06-.94 2.06-2.06.94z\"/><path d=\"M17.41 7.96l-1.37-1.37c-.4-.4-.92-.59-1.43-.59-.52 0-1.04.2-1.43.59L10.3 9.45l-7.72 7.72c-.78.78-.78 2.05 0 2.83L4 21.41c.39.39.9.59 1.41.59.51 0 1.02-.2 1.41-.59l7.78-7.78 2.81-2.81c.8-.78.8-2.07 0-2.86zM5.41 20L4 18.59l7.72-7.72 1.47 1.35L5.41 20z\"/>\n",
              "  </svg>\n",
              "      </button>\n",
              "      \n",
              "  <style>\n",
              "    .colab-df-container {\n",
              "      display:flex;\n",
              "      flex-wrap:wrap;\n",
              "      gap: 12px;\n",
              "    }\n",
              "\n",
              "    .colab-df-convert {\n",
              "      background-color: #E8F0FE;\n",
              "      border: none;\n",
              "      border-radius: 50%;\n",
              "      cursor: pointer;\n",
              "      display: none;\n",
              "      fill: #1967D2;\n",
              "      height: 32px;\n",
              "      padding: 0 0 0 0;\n",
              "      width: 32px;\n",
              "    }\n",
              "\n",
              "    .colab-df-convert:hover {\n",
              "      background-color: #E2EBFA;\n",
              "      box-shadow: 0px 1px 2px rgba(60, 64, 67, 0.3), 0px 1px 3px 1px rgba(60, 64, 67, 0.15);\n",
              "      fill: #174EA6;\n",
              "    }\n",
              "\n",
              "    [theme=dark] .colab-df-convert {\n",
              "      background-color: #3B4455;\n",
              "      fill: #D2E3FC;\n",
              "    }\n",
              "\n",
              "    [theme=dark] .colab-df-convert:hover {\n",
              "      background-color: #434B5C;\n",
              "      box-shadow: 0px 1px 3px 1px rgba(0, 0, 0, 0.15);\n",
              "      filter: drop-shadow(0px 1px 2px rgba(0, 0, 0, 0.3));\n",
              "      fill: #FFFFFF;\n",
              "    }\n",
              "  </style>\n",
              "\n",
              "      <script>\n",
              "        const buttonEl =\n",
              "          document.querySelector('#df-df99e28c-4abf-40fe-bf5c-de7747805044 button.colab-df-convert');\n",
              "        buttonEl.style.display =\n",
              "          google.colab.kernel.accessAllowed ? 'block' : 'none';\n",
              "\n",
              "        async function convertToInteractive(key) {\n",
              "          const element = document.querySelector('#df-df99e28c-4abf-40fe-bf5c-de7747805044');\n",
              "          const dataTable =\n",
              "            await google.colab.kernel.invokeFunction('convertToInteractive',\n",
              "                                                     [key], {});\n",
              "          if (!dataTable) return;\n",
              "\n",
              "          const docLinkHtml = 'Like what you see? Visit the ' +\n",
              "            '<a target=\"_blank\" href=https://colab.research.google.com/notebooks/data_table.ipynb>data table notebook</a>'\n",
              "            + ' to learn more about interactive tables.';\n",
              "          element.innerHTML = '';\n",
              "          dataTable['output_type'] = 'display_data';\n",
              "          await google.colab.output.renderOutput(dataTable, element);\n",
              "          const docLink = document.createElement('div');\n",
              "          docLink.innerHTML = docLinkHtml;\n",
              "          element.appendChild(docLink);\n",
              "        }\n",
              "      </script>\n",
              "    </div>\n",
              "  </div>\n",
              "  "
            ]
          },
          "metadata": {},
          "execution_count": 20
        }
      ],
      "source": [
        "df"
      ]
    },
    {
      "cell_type": "code",
      "execution_count": null,
      "metadata": {
        "id": "5HRl7oiIc9CU"
      },
      "outputs": [],
      "source": [
        "combined = df['combined']\n",
        "fake = df[df['label']==0]['combined']\n",
        "real = df[df['label']==1]['combined']"
      ]
    },
    {
      "cell_type": "code",
      "execution_count": null,
      "metadata": {
        "id": "_PmlFbA8eGmo"
      },
      "outputs": [],
      "source": [
        "def concat_all_sentences(sents):\n",
        "    all_tokens = ''\n",
        "    for text in sents:\n",
        "        tx = str(text).lower().strip()\n",
        "        tx = tx.replace('\\n',' ')\n",
        "        tx = tx.replace('&amp',' ')\n",
        "        tx = tx.replace('#','')\n",
        "        tx = tx.replace('-','')\n",
        "        tx = tx.replace(';','')\n",
        "        tx = \" \".join(tx.split())\n",
        "        all_tokens += tx + \" \"\n",
        "    return all_tokens"
      ]
    },
    {
      "cell_type": "code",
      "execution_count": null,
      "metadata": {
        "id": "VjDW-TF5eHug"
      },
      "outputs": [],
      "source": [
        "all_tokens = concat_all_sentences(combined)\n",
        "fake_tokens = concat_all_sentences(fake)   \n",
        "real_tokens = concat_all_sentences(real)"
      ]
    },
    {
      "cell_type": "code",
      "execution_count": null,
      "metadata": {
        "colab": {
          "base_uri": "https://localhost:8080/",
          "height": 463
        },
        "id": "oH751SwzguIF",
        "outputId": "ceae4fb5-e367-41e9-fced-a12d7331269f"
      },
      "outputs": [
        {
          "output_type": "display_data",
          "data": {
            "text/plain": [
              "<Figure size 432x432 with 1 Axes>"
            ],
            "image/png": "[encoded data removed]"
          },
          "metadata": {
            "needs_background": "light"
          }
        }
      ],
      "source": [
        "wordcloud = WordCloud(width = 400, height = 400, \n",
        "            background_color ='white', \n",
        "            stopwords = stopwords.union({'https','co'}), \n",
        "            min_font_size = 10).generate(all_tokens) \n",
        "\n",
        "# plot the WordCloud image                        \n",
        "plt.figure(figsize = (6, 6), facecolor = None) \n",
        "plt.imshow(wordcloud) \n",
        "plt.axis(\"off\") \n",
        "plt.tight_layout(pad = 0) \n",
        "\n",
        "plt.show()"
      ]
    },
    {
      "cell_type": "code",
      "execution_count": null,
      "metadata": {
        "colab": {
          "base_uri": "https://localhost:8080/",
          "height": 463
        },
        "id": "xcyKJn_AgxZO",
        "outputId": "e0e06728-aee9-43ac-a50e-81a286870347"
      },
      "outputs": [
        {
          "output_type": "display_data",
          "data": {
            "text/plain": [
              "<Figure size 432x432 with 1 Axes>"
            ],
            "image/png": "[encoded data removed]"
          },
          "metadata": {
            "needs_background": "light"
          }
        }
      ],
      "source": [
        "wordcloud = WordCloud(width = 400, height = 400, \n",
        "            background_color ='white', \n",
        "            stopwords = stopwords.union({'https','co'}), \n",
        "            min_font_size = 10).generate(fake_tokens) \n",
        "\n",
        "# plot the WordCloud image                        \n",
        "plt.figure(figsize = (6, 6), facecolor = None) \n",
        "plt.imshow(wordcloud) \n",
        "plt.axis(\"off\") \n",
        "plt.tight_layout(pad = 0) \n",
        "\n",
        "plt.show()"
      ]
    },
    {
      "cell_type": "code",
      "execution_count": null,
      "metadata": {
        "colab": {
          "base_uri": "https://localhost:8080/",
          "height": 463
        },
        "id": "1AMg94xpg6bG",
        "outputId": "2d672e54-51e5-45be-854d-a93b54242834"
      },
      "outputs": [
        {
          "output_type": "display_data",
          "data": {
            "text/plain": [
              "<Figure size 432x432 with 1 Axes>"
            ],
            "image/png": "[encoded data removed]"
          },
          "metadata": {
            "needs_background": "light"
          }
        }
      ],
      "source": [
        "wordcloud = WordCloud(width = 400, height = 400, \n",
        "            background_color ='white', \n",
        "            stopwords = stopwords.union({'https','co'}), \n",
        "            min_font_size = 10).generate(real_tokens) \n",
        "\n",
        "# plot the WordCloud image                        \n",
        "plt.figure(figsize = (6, 6), facecolor = None) \n",
        "plt.imshow(wordcloud) \n",
        "plt.axis(\"off\") \n",
        "plt.tight_layout(pad = 0) \n",
        "\n",
        "plt.show()"
      ]
    },
    {
      "cell_type": "code",
      "execution_count": null,
      "metadata": {
        "colab": {
          "base_uri": "https://localhost:8080/"
        },
        "id": "8ASgEUHRhBac",
        "outputId": "79476b4e-f4a6-400b-e4b0-84d84dcba5ef"
      },
      "outputs": [
        {
          "output_type": "stream",
          "name": "stdout",
          "text": [
            "103528\n",
            "63699\n",
            "66452\n",
            "26623\n"
          ]
        }
      ],
      "source": [
        "print(len(set(all_tokens.split())))\n",
        "print(len(set(fake_tokens.split())))\n",
        "print(len(set(real_tokens.split())))\n",
        "print(len(set(fake_tokens.split()).intersection(set(real_tokens.split()))))"
      ]
    },
    {
      "cell_type": "code",
      "execution_count": null,
      "metadata": {
        "id": "1ah8p3s0hFYY"
      },
      "outputs": [],
      "source": [
        "all_tokens_words = [w for w in all_tokens.split() if w not in stopwords]\n",
        "fake_tokens_words = [w for w in fake_tokens.split() if w not in stopwords]\n",
        "real_tokens_words = [w for w in real_tokens.split() if w not in stopwords]"
      ]
    },
    {
      "cell_type": "code",
      "execution_count": null,
      "metadata": {
        "colab": {
          "base_uri": "https://localhost:8080/"
        },
        "id": "dHAZfbQnhJU2",
        "outputId": "f0c46468-27b0-429b-aefd-cdf9f99f02dd"
      },
      "outputs": [
        {
          "output_type": "execute_result",
          "data": {
            "text/plain": [
              "[('virus', 9698),\n",
              " ('coronavirus', 8405),\n",
              " ('health', 7396),\n",
              " ('people', 6261),\n",
              " ('corona', 6068),\n",
              " ('cases', 6058),\n",
              " ('china', 6037),\n",
              " ('will', 5960),\n",
              " ('new', 5926),\n",
              " ('covid19', 5434),\n",
              " ('said', 4398),\n",
              " ('chinese', 3979),\n",
              " ('one', 3272),\n",
              " ('confirmed', 3016),\n",
              " ('spread', 2925),\n",
              " ('outbreak', 2777),\n",
              " ('wuhan', 2772),\n",
              " ('reported', 2514),\n",
              " ('first', 2472),\n",
              " ('number', 2423)]"
            ]
          },
          "metadata": {},
          "execution_count": 29
        }
      ],
      "source": [
        "Counter(all_tokens_words).most_common(20)"
      ]
    },
    {
      "cell_type": "code",
      "execution_count": null,
      "metadata": {
        "colab": {
          "base_uri": "https://localhost:8080/"
        },
        "id": "MKLVi96ShL1W",
        "outputId": "f7a68e89-1cb4-48f2-dc2d-ef0a12e8d130"
      },
      "outputs": [
        {
          "output_type": "execute_result",
          "data": {
            "text/plain": [
              "[('coronavirus', 3745),\n",
              " ('virus', 3398),\n",
              " ('covid19', 2557),\n",
              " ('will', 2448),\n",
              " ('people', 2426),\n",
              " ('corona', 2193),\n",
              " ('new', 1907),\n",
              " ('health', 1743),\n",
              " ('china', 1670),\n",
              " ('said', 1463),\n",
              " ('one', 1419),\n",
              " ('chinese', 1268),\n",
              " ('cases', 1177),\n",
              " ('may', 985),\n",
              " ('medical', 894),\n",
              " ('first', 885),\n",
              " ('wuhan', 884),\n",
              " ('us', 852),\n",
              " ('world', 803),\n",
              " ('many', 802)]"
            ]
          },
          "metadata": {},
          "execution_count": 30
        }
      ],
      "source": [
        "Counter(fake_tokens_words).most_common(20)"
      ]
    },
    {
      "cell_type": "code",
      "execution_count": null,
      "metadata": {
        "colab": {
          "base_uri": "https://localhost:8080/"
        },
        "id": "7bW5jYd5hPFG",
        "outputId": "88f01456-f444-4f0d-ad74-00e57d598849"
      },
      "outputs": [
        {
          "output_type": "execute_result",
          "data": {
            "text/plain": [
              "[('virus', 6300),\n",
              " ('health', 5653),\n",
              " ('cases', 4881),\n",
              " ('coronavirus', 4660),\n",
              " ('china', 4367),\n",
              " ('new', 4019),\n",
              " ('corona', 3875),\n",
              " ('people', 3835),\n",
              " ('will', 3512),\n",
              " ('said', 2935),\n",
              " ('covid19', 2877),\n",
              " ('chinese', 2711),\n",
              " ('confirmed', 2508),\n",
              " ('spread', 2142),\n",
              " ('outbreak', 1992),\n",
              " ('reported', 1978),\n",
              " ('wuhan', 1888),\n",
              " ('one', 1853),\n",
              " ('public', 1783),\n",
              " ('number', 1778)]"
            ]
          },
          "metadata": {},
          "execution_count": 31
        }
      ],
      "source": [
        "Counter(real_tokens_words).most_common(20)"
      ]
    },
    {
      "cell_type": "code",
      "execution_count": null,
      "metadata": {
        "id": "LpADV__yhTpF"
      },
      "outputs": [],
      "source": [
        "def plot_confusion_matrix(cm,\n",
        "                          target_names,\n",
        "                          title='Confusion matrix',\n",
        "                          cmap=None,\n",
        "                          normalize=True):\n",
        "    \"\"\"\n",
        "    given a sklearn confusion matrix (cm), make a nice plot\n",
        "\n",
        "    Arguments\n",
        "    ---------\n",
        "    cm:           confusion matrix from sklearn.metrics.confusion_matrix\n",
        "\n",
        "    target_names: given classification classes such as [0, 1, 2]\n",
        "                  the class names, for example: ['high', 'medium', 'low']\n",
        "\n",
        "    title:        the text to display at the top of the matrix\n",
        "\n",
        "    cmap:         the gradient of the values displayed from matplotlib.pyplot.cm\n",
        "                  see http://matplotlib.org/examples/color/colormaps_reference.html\n",
        "                  plt.get_cmap('jet') or plt.cm.Blues\n",
        "\n",
        "    normalize:    If False, plot the raw numbers\n",
        "                  If True, plot the proportions\n",
        "\n",
        "    Usage\n",
        "    -----\n",
        "    plot_confusion_matrix(cm           = cm,                  # confusion matrix created by\n",
        "                                                              # sklearn.metrics.confusion_matrix\n",
        "                          normalize    = True,                # show proportions\n",
        "                          target_names = y_labels_vals,       # list of names of the classes\n",
        "                          title        = best_estimator_name) # title of graph\n",
        "\n",
        "    Citiation\n",
        "    ---------\n",
        "    http://scikit-learn.org/stable/auto_examples/model_selection/plot_confusion_matrix.html\n",
        "\n",
        "    \"\"\"\n",
        "\n",
        "    accuracy = np.trace(cm) / float(np.sum(cm))\n",
        "    misclass = 1 - accuracy\n",
        "\n",
        "    if cmap is None:\n",
        "        cmap = plt.get_cmap('Blues')\n",
        "\n",
        "    plt.figure(figsize=(5, 4))\n",
        "    plt.imshow(cm, interpolation='nearest', cmap=cmap)\n",
        "    plt.title(title)\n",
        "    plt.colorbar()\n",
        "\n",
        "    if target_names is not None:\n",
        "        tick_marks = np.arange(len(target_names))\n",
        "        plt.xticks(tick_marks, target_names, rotation=45)\n",
        "        plt.yticks(tick_marks, target_names)\n",
        "\n",
        "    if normalize:\n",
        "        cm = cm.astype('float') / cm.sum(axis=1)[:, np.newaxis]\n",
        "\n",
        "\n",
        "    thresh = cm.max() / 1.5 if normalize else cm.max() / 2\n",
        "    for i, j in itertools.product(range(cm.shape[0]), range(cm.shape[1])):\n",
        "        if normalize:\n",
        "            plt.text(j, i, \"{:0.4f}\".format(cm[i, j]),\n",
        "                     horizontalalignment=\"center\",\n",
        "                     color=\"white\" if cm[i, j] > thresh else \"black\")\n",
        "        else:\n",
        "            plt.text(j, i, \"{:,}\".format(cm[i, j]),\n",
        "                     horizontalalignment=\"center\",\n",
        "                     color=\"white\" if cm[i, j] > thresh else \"black\")\n",
        "\n",
        "\n",
        "    plt.tight_layout()\n",
        "    plt.ylabel('True label')\n",
        "    #plt.xlabel('Predicted label\\naccuracy={:0.4f}; misclass={:0.4f}'.format(accuracy, misclass))\n",
        "    plt.xlabel('Predicted label')\n",
        "    plt.show()"
      ]
    },
    {
      "cell_type": "code",
      "execution_count": null,
      "metadata": {
        "colab": {
          "base_uri": "https://localhost:8080/"
        },
        "id": "Sxt4sJ39iV91",
        "outputId": "294b22d5-bb12-4ee0-8b1b-2c7cf9c8ff9d"
      },
      "outputs": [
        {
          "output_type": "stream",
          "name": "stdout",
          "text": [
            "[nltk_data] Downloading package stopwords to /root/nltk_data...\n",
            "[nltk_data]   Unzipping corpora/stopwords.zip.\n"
          ]
        },
        {
          "output_type": "execute_result",
          "data": {
            "text/plain": [
              "True"
            ]
          },
          "metadata": {},
          "execution_count": 33
        }
      ],
      "source": [
        "nltk.download('stopwords')"
      ]
    },
    {
      "cell_type": "code",
      "execution_count": null,
      "metadata": {
        "id": "8dt-whQKiQ4C"
      },
      "outputs": [],
      "source": [
        "from nltk.corpus import stopwords"
      ]
    },
    {
      "cell_type": "code",
      "execution_count": null,
      "metadata": {
        "id": "ywCyqOpThoSf"
      },
      "outputs": [],
      "source": [
        "stops = set(stopwords.words(\"english\"))\n",
        "def cleantext(string):\n",
        "    text = string.lower().split()\n",
        "    text = \" \".join(text)\n",
        "    text = re.sub(r\"http(\\S)+\",' ',text)    \n",
        "    text = re.sub(r\"www(\\S)+\",' ',text)\n",
        "    text = re.sub(r\"&\",' and ',text)  \n",
        "    text = text.replace('&amp',' ')\n",
        "    text = re.sub(r\"[^0-9a-zA-Z]+\",' ',text)\n",
        "    text = re.sub('http[s]?://(?:[a-zA-Z]|[0-9]|[$-_@.&+#]|[!*\\(\\),]|'\\\n",
        "                    '(?:%[0-9a-fA-F][0-9a-fA-F]))+', '',text)\n",
        "    text = re.sub(\"(@[A-Za-z0-9_]+)\",\"\",text)\n",
        "    text = re.sub(\"RT\",' ',text)\n",
        "    text = text.split()\n",
        "    text = [w for w in text if not w in stops]\n",
        "    text = \" \".join(text)\n",
        "    return text"
      ]
    },
    {
      "cell_type": "code",
      "execution_count": null,
      "metadata": {
        "id": "qMnk5geShqPD"
      },
      "outputs": [],
      "source": [
        "def print_metrices(pred,true):\n",
        "    print(confusion_matrix(true,pred))\n",
        "    print(classification_report(true,pred,))\n",
        "    print(\"Accuracy : \",accuracy_score(pred,true))\n",
        "    print(\"Precison : \",precision_score(pred,true, average = 'weighted'))\n",
        "    print(\"Recall : \",recall_score(pred,true,  average = 'weighted'))\n",
        "    print(\"F1 : \",f1_score(pred,true,  average = 'weighted'))"
      ]
    },
    {
      "cell_type": "code",
      "execution_count": null,
      "metadata": {
        "colab": {
          "base_uri": "https://localhost:8080/"
        },
        "id": "G_RXHxOYj3GA",
        "outputId": "0829533f-80a7-4e5b-bdf2-3ef7aa515e9a"
      },
      "outputs": [
        {
          "output_type": "execute_result",
          "data": {
            "text/plain": [
              "13818"
            ]
          },
          "metadata": {},
          "execution_count": 37
        }
      ],
      "source": [
        "l=df.shape[0]\n",
        "l"
      ]
    },
    {
      "cell_type": "markdown",
      "metadata": {
        "id": "T3jElfLwFrXs"
      },
      "source": [
        "Lemmatizaion"
      ]
    },
    {
      "cell_type": "code",
      "execution_count": null,
      "metadata": {
        "id": "Y-hY86Xd98oa"
      },
      "outputs": [],
      "source": [
        "from nltk.stem import WordNetLemmatizer\n",
        "from nltk.tag import pos_tag\n",
        "from nltk.corpus import wordnet"
      ]
    },
    {
      "cell_type": "code",
      "execution_count": null,
      "metadata": {
        "id": "noKAzjE093bv"
      },
      "outputs": [],
      "source": [
        "#Function to perform Lemmatization on a Corpus\n",
        "lemmatizer = WordNetLemmatizer()\n",
        "def lemmatize(tweets):\n",
        "\n",
        "    def get_wordnet_pos(word):\n",
        "        # Map POS tag to first character lemmatize() accepts\n",
        "        tag = nltk.pos_tag([word])[0][1][0].upper()\n",
        "        tag_dict = {\"J\": wordnet.ADJ,\n",
        "                    \"N\": wordnet.NOUN,\n",
        "                    \"V\": wordnet.VERB,\n",
        "                    \"R\": wordnet.ADV}\n",
        "\n",
        "        return tag_dict.get(tag, wordnet.NOUN)\n",
        "\n",
        "    lemmatized_tweets=[]\n",
        "\n",
        "    for i in tweets:\n",
        "        tweet = i\n",
        "        tweet = tweet.lower()\n",
        "        tweet = tweet.split()\n",
        "        tweet = [lemmatizer.lemmatize(word, get_wordnet_pos(word)) for word in tweet]\n",
        "        tweet = ' '.join(tweet) \n",
        "        lemmatized_tweets.append(tweet)\n",
        "    return(lemmatized_tweets)"
      ]
    },
    {
      "cell_type": "code",
      "execution_count": null,
      "metadata": {
        "colab": {
          "base_uri": "https://localhost:8080/"
        },
        "id": "z5X0eDCY_CXp",
        "outputId": "408ee034-aa64-4b3c-cde8-84d50ac8fe46"
      },
      "outputs": [
        {
          "output_type": "stream",
          "name": "stdout",
          "text": [
            "[nltk_data] Downloading package averaged_perceptron_tagger to\n",
            "[nltk_data]     /root/nltk_data...\n",
            "[nltk_data]   Unzipping taggers/averaged_perceptron_tagger.zip.\n"
          ]
        },
        {
          "output_type": "execute_result",
          "data": {
            "text/plain": [
              "True"
            ]
          },
          "metadata": {},
          "execution_count": 40
        }
      ],
      "source": [
        "nltk.download('averaged_perceptron_tagger')"
      ]
    },
    {
      "cell_type": "code",
      "execution_count": null,
      "metadata": {
        "colab": {
          "base_uri": "https://localhost:8080/"
        },
        "id": "MAM_K-PW_qlx",
        "outputId": "8e92e2d2-1710-4ef4-a039-f137563f7477"
      },
      "outputs": [
        {
          "output_type": "stream",
          "name": "stdout",
          "text": [
            "[nltk_data] Downloading package wordnet to /root/nltk_data...\n",
            "[nltk_data]   Unzipping corpora/wordnet.zip.\n"
          ]
        },
        {
          "output_type": "execute_result",
          "data": {
            "text/plain": [
              "True"
            ]
          },
          "metadata": {},
          "execution_count": 41
        }
      ],
      "source": [
        "nltk.download('wordnet')"
      ]
    },
    {
      "cell_type": "code",
      "execution_count": null,
      "metadata": {
        "id": "-6lYErJM-PR3"
      },
      "outputs": [],
      "source": [
        "comb = df['combined'].map(lambda x: cleantext(x))\n",
        "comb=comb.to_list()\n"
      ]
    },
    {
      "cell_type": "code",
      "execution_count": null,
      "metadata": {
        "id": "dDIjn2YbsGZA"
      },
      "outputs": [],
      "source": [
        "combb=lemmatize(comb)\n",
        "df['combined']=combb"
      ]
    },
    {
      "cell_type": "code",
      "execution_count": null,
      "metadata": {
        "id": "MYIaWTVzzzhV"
      },
      "outputs": [],
      "source": [
        "combined=df['combined']\n",
        "label=df['label']"
      ]
    },
    {
      "cell_type": "code",
      "source": [
        "combined"
      ],
      "metadata": {
        "colab": {
          "base_uri": "https://localhost:8080/"
        },
        "id": "kdg4M1gHgeIF",
        "outputId": "a9851b9b-efa8-4636-cf89-593112de496a"
      },
      "execution_count": null,
      "outputs": [
        {
          "output_type": "execute_result",
          "data": {
            "text/plain": [
              "0       facebook deletes michigan anti lockdown group ...\n",
              "1       viewpoint covid 19 bad flu officially put rest...\n",
              "2       bermuda covid 19 case surpass 100 ministry hea...\n",
              "3       purdue university say student face close zero ...\n",
              "4       high cost lock america see year worth suicide ...\n",
              "                              ...                        \n",
              "2135    coronavirusupdates state wise detail total con...\n",
              "2136    tonight 12 midnight onwards disaster managemen...\n",
              "2137    296 new case covid19nigeria plateau 85 enugu 4...\n",
              "2138    rt cdcemergency dyk cdcgov one stop shop covid...\n",
              "2139    half pregnant woman recently admit uk hospital...\n",
              "Name: combined, Length: 13818, dtype: object"
            ]
          },
          "metadata": {},
          "execution_count": 45
        }
      ]
    },
    {
      "cell_type": "code",
      "source": [
        "label.value_counts()"
      ],
      "metadata": {
        "colab": {
          "base_uri": "https://localhost:8080/"
        },
        "id": "RGBOBFi0h6sj",
        "outputId": "b9891525-1c31-4a49-db53-4959bd576c77"
      },
      "execution_count": null,
      "outputs": [
        {
          "output_type": "execute_result",
          "data": {
            "text/plain": [
              "1.0    7661\n",
              "0.0    6157\n",
              "Name: label, dtype: int64"
            ]
          },
          "metadata": {},
          "execution_count": 46
        }
      ]
    },
    {
      "cell_type": "code",
      "source": [
        "s1 = pd.Series([\"zombies\", \"zombie\", \"aliens\", \"alien\", \"parallel universe\", \"vaccines are safe and protecting\", \"side effects\", ])\n",
        "s2 = pd.Series([0,0,0,0,0,1,0])\n",
        "combined=combined.append(s1)\n",
        "label=label.append(s2)"
      ],
      "metadata": {
        "id": "ESFNVaw8fz9x"
      },
      "execution_count": null,
      "outputs": []
    },
    {
      "cell_type": "code",
      "source": [
        "combined"
      ],
      "metadata": {
        "colab": {
          "base_uri": "https://localhost:8080/"
        },
        "id": "fry8VgtRiBiY",
        "outputId": "a819e00a-ec92-4d29-ec9a-49f30cca44dd"
      },
      "execution_count": null,
      "outputs": [
        {
          "output_type": "execute_result",
          "data": {
            "text/plain": [
              "0    facebook deletes michigan anti lockdown group ...\n",
              "1    viewpoint covid 19 bad flu officially put rest...\n",
              "2    bermuda covid 19 case surpass 100 ministry hea...\n",
              "3    purdue university say student face close zero ...\n",
              "4    high cost lock america see year worth suicide ...\n",
              "                           ...                        \n",
              "2                                               aliens\n",
              "3                                                alien\n",
              "4                                    parallel universe\n",
              "5                     vaccines are safe and protecting\n",
              "6                                         side effects\n",
              "Length: 13825, dtype: object"
            ]
          },
          "metadata": {},
          "execution_count": 48
        }
      ]
    },
    {
      "cell_type": "code",
      "source": [
        "label"
      ],
      "metadata": {
        "colab": {
          "base_uri": "https://localhost:8080/"
        },
        "id": "WeexPgIJi0KM",
        "outputId": "d93b1eac-77ae-4fd0-9051-fd077ef0762c"
      },
      "execution_count": null,
      "outputs": [
        {
          "output_type": "execute_result",
          "data": {
            "text/plain": [
              "0    0.0\n",
              "1    1.0\n",
              "2    1.0\n",
              "3    0.0\n",
              "4    0.0\n",
              "    ... \n",
              "2    0.0\n",
              "3    0.0\n",
              "4    0.0\n",
              "5    1.0\n",
              "6    0.0\n",
              "Length: 13825, dtype: float64"
            ]
          },
          "metadata": {},
          "execution_count": 49
        }
      ]
    },
    {
      "cell_type": "code",
      "execution_count": null,
      "metadata": {
        "colab": {
          "base_uri": "https://localhost:8080/"
        },
        "id": "R4H48K-Mz8Ql",
        "outputId": "00ac02bb-21ce-49fd-af96-85424e6da00b"
      },
      "outputs": [
        {
          "output_type": "execute_result",
          "data": {
            "text/plain": [
              "13825"
            ]
          },
          "metadata": {},
          "execution_count": 50
        }
      ],
      "source": [
        "len(combined)"
      ]
    },
    {
      "cell_type": "code",
      "execution_count": null,
      "metadata": {
        "colab": {
          "base_uri": "https://localhost:8080/"
        },
        "id": "toAToNaf0AWs",
        "outputId": "1aa70d24-5443-4e59-cceb-7ccef857f565"
      },
      "outputs": [
        {
          "output_type": "execute_result",
          "data": {
            "text/plain": [
              "13825"
            ]
          },
          "metadata": {},
          "execution_count": 51
        }
      ],
      "source": [
        "len(label)"
      ]
    },
    {
      "cell_type": "code",
      "execution_count": null,
      "metadata": {
        "id": "7DXQyJKHyYID"
      },
      "outputs": [],
      "source": [
        "from sklearn.model_selection import train_test_split"
      ]
    },
    {
      "cell_type": "code",
      "execution_count": null,
      "metadata": {
        "id": "b7MJIiJQypJ_"
      },
      "outputs": [],
      "source": [
        "x_train, x_test, y_train, y_test = train_test_split(combined,label, test_size=0.33, random_state=20)"
      ]
    },
    {
      "cell_type": "markdown",
      "metadata": {
        "id": "6P-iAx1G4gIm"
      },
      "source": [
        "## **Support Vector Machine**"
      ]
    },
    {
      "cell_type": "code",
      "execution_count": null,
      "metadata": {
        "id": "0JWV3Jrq4JBY"
      },
      "outputs": [],
      "source": [
        "from sklearn.svm import SVC"
      ]
    },
    {
      "cell_type": "code",
      "execution_count": null,
      "metadata": {
        "id": "Y7w5jzswy8db"
      },
      "outputs": [],
      "source": [
        "pipeline_svm = Pipeline([\n",
        "        ('bow', CountVectorizer()),  \n",
        "        ('tfidf', TfidfTransformer()),  \n",
        "        ('SVM', SVC())\n",
        "    ])\n",
        "fit = pipeline_svm.fit(x_train,y_train)"
      ]
    },
    {
      "cell_type": "markdown",
      "metadata": {
        "id": "ozEPMcGa69ae"
      },
      "source": [
        "Hyperparameter Tuning"
      ]
    },
    {
      "cell_type": "code",
      "execution_count": null,
      "metadata": {
        "id": "O1K1cLgI6XSd"
      },
      "outputs": [],
      "source": [
        "parameters = {'SVM__C':[10,15,20,25,30], 'SVM__gamma':[0.1,0.01]}\n"
      ]
    },
    {
      "cell_type": "code",
      "execution_count": null,
      "metadata": {
        "id": "aDjqHVRl6j_x"
      },
      "outputs": [],
      "source": [
        "from sklearn.model_selection import GridSearchCV\n",
        "grid = GridSearchCV(pipeline_svm, param_grid=parameters, cv=5)"
      ]
    },
    {
      "cell_type": "code",
      "execution_count": null,
      "metadata": {
        "colab": {
          "base_uri": "https://localhost:8080/",
          "height": 36
        },
        "id": "UWp7WaFw7Cpy",
        "outputId": "43de6955-a0c5-425c-8061-154994a58faf"
      },
      "outputs": [
        {
          "output_type": "execute_result",
          "data": {
            "text/plain": [
              "\"\\nOutput :\\n\\n{'SVM__C': 10, 'SVM__gamma': 0.1}\\n\\n\""
            ],
            "application/vnd.google.colaboratory.intrinsic+json": {
              "type": "string"
            }
          },
          "metadata": {},
          "execution_count": 58
        }
      ],
      "source": [
        "#grid.fit(x_train, y_train)\n",
        "#print(grid.best_params_)\n",
        "\n",
        "'''\n",
        "Output :\n",
        "\n",
        "{'SVM__C': 10, 'SVM__gamma': 0.1}\n",
        "\n",
        "'''"
      ]
    },
    {
      "cell_type": "code",
      "execution_count": null,
      "metadata": {
        "id": "ZDCAKR64H6QC"
      },
      "outputs": [],
      "source": [
        "pipeline_svm = Pipeline([\n",
        "        ('bow', CountVectorizer()),  \n",
        "        ('tfidf', TfidfTransformer()),  \n",
        "        ('SVM', SVC(C=10, gamma=0.1 ))\n",
        "    ])\n",
        "fit = pipeline_svm.fit(x_train,y_train)"
      ]
    },
    {
      "cell_type": "code",
      "execution_count": null,
      "metadata": {
        "colab": {
          "base_uri": "https://localhost:8080/",
          "height": 606
        },
        "id": "nrdw6_Fiy-ob",
        "outputId": "affcef8d-978e-4891-acc8-686663731a53"
      },
      "outputs": [
        {
          "output_type": "stream",
          "name": "stdout",
          "text": [
            "SVM\n",
            "val:\n",
            "[[1780  263]\n",
            " [ 206 2314]]\n",
            "              precision    recall  f1-score   support\n",
            "\n",
            "         0.0       0.90      0.87      0.88      2043\n",
            "         1.0       0.90      0.92      0.91      2520\n",
            "\n",
            "    accuracy                           0.90      4563\n",
            "   macro avg       0.90      0.89      0.90      4563\n",
            "weighted avg       0.90      0.90      0.90      4563\n",
            "\n",
            "Accuracy :  0.8972167433705895\n",
            "Precison :  0.8978036850340025\n",
            "Recall :  0.8972167433705895\n",
            "F1 :  0.8973690878024992\n"
          ]
        },
        {
          "output_type": "display_data",
          "data": {
            "text/plain": [
              "<Figure size 360x288 with 2 Axes>"
            ],
            "image/png": "[encoded data removed]"
          },
          "metadata": {
            "needs_background": "light"
          }
        }
      ],
      "source": [
        "print('SVM')\n",
        "print ('val:')\n",
        "pred=pipeline_svm.predict(x_test)\n",
        "print_metrices(pred,y_test)\n",
        "\n",
        "plot_confusion_matrix(confusion_matrix(y_test ,pred),target_names=['fake','real'], normalize = False, \\\n",
        "                      title = 'Confusion matix of SVM on val data')\n"
      ]
    },
    {
      "cell_type": "markdown",
      "metadata": {
        "id": "KJKdRtKQ44J-"
      },
      "source": [
        "Testing SVM\n"
      ]
    },
    {
      "cell_type": "code",
      "execution_count": null,
      "metadata": {
        "id": "Oy44N8yoSp-8"
      },
      "outputs": [],
      "source": [
        "st=\"Covid vaccines do not work. They are useless\"\n",
        "def info(s):\n",
        "  ll=[]\n",
        "  c = cleantext(s)\n",
        "  ll.append(c)\n",
        "  c=ll\n",
        "  ll=lemmatize(c)\n",
        "  \n",
        "  ser=pd.Series(ll)\n",
        "  res=pipeline_svm.predict(ser)\n",
        "  if res==0:\n",
        "    return 1\n",
        "  else:\n",
        "    return 0\n"
      ]
    },
    {
      "cell_type": "code",
      "source": [
        "info(st)"
      ],
      "metadata": {
        "colab": {
          "base_uri": "https://localhost:8080/"
        },
        "id": "19qA5rI1Ow2b",
        "outputId": "7120d0e5-4439-47e0-e121-b1b4e3091c86"
      },
      "execution_count": null,
      "outputs": [
        {
          "output_type": "execute_result",
          "data": {
            "text/plain": [
              "1"
            ]
          },
          "metadata": {},
          "execution_count": 62
        }
      ]
    },
    {
      "cell_type": "markdown",
      "metadata": {
        "id": "VRquwqZ1OH8X"
      },
      "source": [
        "## **Implementing model on Tweets**"
      ]
    },
    {
      "cell_type": "code",
      "execution_count": null,
      "metadata": {
        "id": "7h-2rMAC2a3_"
      },
      "outputs": [],
      "source": [
        "import tweepy\n",
        "import os,sys, csv, time"
      ]
    },
    {
      "cell_type": "code",
      "execution_count": null,
      "metadata": {
        "colab": {
          "base_uri": "https://localhost:8080/"
        },
        "id": "504XZMVJMgEr",
        "outputId": "ccc2f283-9656-4e98-9b3f-10b8ad1943d4"
      },
      "outputs": [
        {
          "output_type": "stream",
          "name": "stderr",
          "text": [
            "ERROR:root:File `'./keys.ipynb.py'` not found.\n"
          ]
        }
      ],
      "source": [
        "%run ./keys.ipynb"
      ]
    },
    {
      "cell_type": "code",
      "execution_count": null,
      "metadata": {
        "id": "F07aUmwoMh7t"
      },
      "outputs": [],
      "source": [
        "consumer_key=\"USTdo6lh9Xgvui4s8Iuza0Nu9\"\n",
        "consumer_secret=\"VkRfu07PIqr33TbfmkVhCKMjbvWiKZvUo4wyxskBcqaqCoHk4W\"\n",
        "access_token=\"1137384737872535552-eTE7cb49eEys1T033xObnhAfgmYhWr\"\n",
        "access_token_secret=\"UYOuUcVxY8dkyOFzMHRUIJBpw6osar9Bt3ZP03dv9Tvpp\"\n"
      ]
    },
    {
      "cell_type": "code",
      "execution_count": null,
      "metadata": {
        "id": "6RSuYPw9POLK"
      },
      "outputs": [],
      "source": [
        "auth=tweepy.OAuthHandler(consumer_key,consumer_secret)\n",
        "auth.set_access_token(access_token, access_token_secret)\n",
        "api=tweepy.API(auth)"
      ]
    },
    {
      "cell_type": "code",
      "execution_count": null,
      "metadata": {
        "id": "20mUXKjCFLoF"
      },
      "outputs": [],
      "source": [
        "def inf(username):\n",
        "  number_of_tweets=10\n",
        "  t=[]\n",
        "  for i in tweepy.Cursor(api.user_timeline, id=username, tweet_mode=\"extended\").items(number_of_tweets):\n",
        "    t.append(i.full_text)\n",
        "    t=np.array(t)\n",
        "    p=\"@\"+username+\"'s latest tweet is : \"+t[0]\n",
        "    return info(t[0]),p"
      ]
    },
    {
      "cell_type": "code",
      "source": [
        "a,b=inf(\"ibarryxd\")\n",
        "print(a)\n",
        "print(b)"
      ],
      "metadata": {
        "colab": {
          "base_uri": "https://localhost:8080/"
        },
        "id": "TY6tsLH9YXtE",
        "outputId": "914a787c-f824-47bc-e62d-7486b26ee2f2"
      },
      "execution_count": null,
      "outputs": [
        {
          "output_type": "stream",
          "name": "stdout",
          "text": [
            "0\n",
            "@ibarryxd's latest tweet is : Covid vaccines are working safe. Haven't observed any side effect!\n"
          ]
        }
      ]
    },
    {
      "cell_type": "markdown",
      "source": [
        "## **Bot Detection**"
      ],
      "metadata": {
        "id": "i_jQybk2Yjh_"
      }
    },
    {
      "cell_type": "code",
      "source": [
        "df=pd.read_csv('/content/drive/My Drive/Dataset/bot2.csv', encoding='iso-8859-1')"
      ],
      "metadata": {
        "id": "mWUQzB0ePf4m"
      },
      "execution_count": null,
      "outputs": []
    },
    {
      "cell_type": "code",
      "source": [
        "df\n"
      ],
      "metadata": {
        "colab": {
          "base_uri": "https://localhost:8080/",
          "height": 424
        },
        "id": "ATmj6CtAPgGk",
        "outputId": "a582cb6f-14c3-4e10-9731-0d622abca061"
      },
      "execution_count": null,
      "outputs": [
        {
          "output_type": "execute_result",
          "data": {
            "text/plain": [
              "                       id account_type\n",
              "0      787405734442958848          bot\n",
              "1      796216118331310080        human\n",
              "2      875949740503859204        human\n",
              "3      756119643622735875        human\n",
              "4               464781334        human\n",
              "...                   ...          ...\n",
              "37433            63963107        human\n",
              "37434          1064042478        human\n",
              "37435          1089732602        human\n",
              "37436           815529979        human\n",
              "37437           434896892          bot\n",
              "\n",
              "[37438 rows x 2 columns]"
            ],
            "text/html": [
              "\n",
              "  <div id=\"df-0dab2012-4db0-4e31-a117-750210b30bd5\">\n",
              "    <div class=\"colab-df-container\">\n",
              "      <div>\n",
              "<style scoped>\n",
              "    .dataframe tbody tr th:only-of-type {\n",
              "        vertical-align: middle;\n",
              "    }\n",
              "\n",
              "    .dataframe tbody tr th {\n",
              "        vertical-align: top;\n",
              "    }\n",
              "\n",
              "    .dataframe thead th {\n",
              "        text-align: right;\n",
              "    }\n",
              "</style>\n",
              "<table border=\"1\" class=\"dataframe\">\n",
              "  <thead>\n",
              "    <tr style=\"text-align: right;\">\n",
              "      <th></th>\n",
              "      <th>id</th>\n",
              "      <th>account_type</th>\n",
              "    </tr>\n",
              "  </thead>\n",
              "  <tbody>\n",
              "    <tr>\n",
              "      <th>0</th>\n",
              "      <td>787405734442958848</td>\n",
              "      <td>bot</td>\n",
              "    </tr>\n",
              "    <tr>\n",
              "      <th>1</th>\n",
              "      <td>796216118331310080</td>\n",
              "      <td>human</td>\n",
              "    </tr>\n",
              "    <tr>\n",
              "      <th>2</th>\n",
              "      <td>875949740503859204</td>\n",
              "      <td>human</td>\n",
              "    </tr>\n",
              "    <tr>\n",
              "      <th>3</th>\n",
              "      <td>756119643622735875</td>\n",
              "      <td>human</td>\n",
              "    </tr>\n",
              "    <tr>\n",
              "      <th>4</th>\n",
              "      <td>464781334</td>\n",
              "      <td>human</td>\n",
              "    </tr>\n",
              "    <tr>\n",
              "      <th>...</th>\n",
              "      <td>...</td>\n",
              "      <td>...</td>\n",
              "    </tr>\n",
              "    <tr>\n",
              "      <th>37433</th>\n",
              "      <td>63963107</td>\n",
              "      <td>human</td>\n",
              "    </tr>\n",
              "    <tr>\n",
              "      <th>37434</th>\n",
              "      <td>1064042478</td>\n",
              "      <td>human</td>\n",
              "    </tr>\n",
              "    <tr>\n",
              "      <th>37435</th>\n",
              "      <td>1089732602</td>\n",
              "      <td>human</td>\n",
              "    </tr>\n",
              "    <tr>\n",
              "      <th>37436</th>\n",
              "      <td>815529979</td>\n",
              "      <td>human</td>\n",
              "    </tr>\n",
              "    <tr>\n",
              "      <th>37437</th>\n",
              "      <td>434896892</td>\n",
              "      <td>bot</td>\n",
              "    </tr>\n",
              "  </tbody>\n",
              "</table>\n",
              "<p>37438 rows × 2 columns</p>\n",
              "</div>\n",
              "      <button class=\"colab-df-convert\" onclick=\"convertToInteractive('df-0dab2012-4db0-4e31-a117-750210b30bd5')\"\n",
              "              title=\"Convert this dataframe to an interactive table.\"\n",
              "              style=\"display:none;\">\n",
              "        \n",
              "  <svg xmlns=\"http://www.w3.org/2000/svg\" height=\"24px\"viewBox=\"0 0 24 24\"\n",
              "       width=\"24px\">\n",
              "    <path d=\"M0 0h24v24H0V0z\" fill=\"none\"/>\n",
              "    <path d=\"M18.56 5.44l.94 2.06.94-2.06 2.06-.94-2.06-.94-.94-2.06-.94 2.06-2.06.94zm-11 1L8.5 8.5l.94-2.06 2.06-.94-2.06-.94L8.5 2.5l-.94 2.06-2.06.94zm10 10l.94 2.06.94-2.06 2.06-.94-2.06-.94-.94-2.06-.94 2.06-2.06.94z\"/><path d=\"M17.41 7.96l-1.37-1.37c-.4-.4-.92-.59-1.43-.59-.52 0-1.04.2-1.43.59L10.3 9.45l-7.72 7.72c-.78.78-.78 2.05 0 2.83L4 21.41c.39.39.9.59 1.41.59.51 0 1.02-.2 1.41-.59l7.78-7.78 2.81-2.81c.8-.78.8-2.07 0-2.86zM5.41 20L4 18.59l7.72-7.72 1.47 1.35L5.41 20z\"/>\n",
              "  </svg>\n",
              "      </button>\n",
              "      \n",
              "  <style>\n",
              "    .colab-df-container {\n",
              "      display:flex;\n",
              "      flex-wrap:wrap;\n",
              "      gap: 12px;\n",
              "    }\n",
              "\n",
              "    .colab-df-convert {\n",
              "      background-color: #E8F0FE;\n",
              "      border: none;\n",
              "      border-radius: 50%;\n",
              "      cursor: pointer;\n",
              "      display: none;\n",
              "      fill: #1967D2;\n",
              "      height: 32px;\n",
              "      padding: 0 0 0 0;\n",
              "      width: 32px;\n",
              "    }\n",
              "\n",
              "    .colab-df-convert:hover {\n",
              "      background-color: #E2EBFA;\n",
              "      box-shadow: 0px 1px 2px rgba(60, 64, 67, 0.3), 0px 1px 3px 1px rgba(60, 64, 67, 0.15);\n",
              "      fill: #174EA6;\n",
              "    }\n",
              "\n",
              "    [theme=dark] .colab-df-convert {\n",
              "      background-color: #3B4455;\n",
              "      fill: #D2E3FC;\n",
              "    }\n",
              "\n",
              "    [theme=dark] .colab-df-convert:hover {\n",
              "      background-color: #434B5C;\n",
              "      box-shadow: 0px 1px 3px 1px rgba(0, 0, 0, 0.15);\n",
              "      filter: drop-shadow(0px 1px 2px rgba(0, 0, 0, 0.3));\n",
              "      fill: #FFFFFF;\n",
              "    }\n",
              "  </style>\n",
              "\n",
              "      <script>\n",
              "        const buttonEl =\n",
              "          document.querySelector('#df-0dab2012-4db0-4e31-a117-750210b30bd5 button.colab-df-convert');\n",
              "        buttonEl.style.display =\n",
              "          google.colab.kernel.accessAllowed ? 'block' : 'none';\n",
              "\n",
              "        async function convertToInteractive(key) {\n",
              "          const element = document.querySelector('#df-0dab2012-4db0-4e31-a117-750210b30bd5');\n",
              "          const dataTable =\n",
              "            await google.colab.kernel.invokeFunction('convertToInteractive',\n",
              "                                                     [key], {});\n",
              "          if (!dataTable) return;\n",
              "\n",
              "          const docLinkHtml = 'Like what you see? Visit the ' +\n",
              "            '<a target=\"_blank\" href=https://colab.research.google.com/notebooks/data_table.ipynb>data table notebook</a>'\n",
              "            + ' to learn more about interactive tables.';\n",
              "          element.innerHTML = '';\n",
              "          dataTable['output_type'] = 'display_data';\n",
              "          await google.colab.output.renderOutput(dataTable, element);\n",
              "          const docLink = document.createElement('div');\n",
              "          docLink.innerHTML = docLinkHtml;\n",
              "          element.appendChild(docLink);\n",
              "        }\n",
              "      </script>\n",
              "    </div>\n",
              "  </div>\n",
              "  "
            ]
          },
          "metadata": {},
          "execution_count": 70
        }
      ]
    },
    {
      "cell_type": "code",
      "source": [
        "a=df['id'][0]"
      ],
      "metadata": {
        "id": "MQgzXF7pPh0I"
      },
      "execution_count": null,
      "outputs": []
    },
    {
      "cell_type": "code",
      "source": [
        "user=api.get_user(a)\n",
        "user"
      ],
      "metadata": {
        "colab": {
          "base_uri": "https://localhost:8080/"
        },
        "id": "SV7DLKgXPmA_",
        "outputId": "aac2f61d-e2d1-4bd7-e2a4-bab8d036f9b6"
      },
      "execution_count": null,
      "outputs": [
        {
          "output_type": "execute_result",
          "data": {
            "text/plain": [
              "User(_api=<tweepy.api.API object at 0x7faf54e8b850>, _json={'id': 787405734442958848, 'id_str': '787405734442958848', 'name': 'The Best In Dumbest', 'screen_name': 'best_in_dumbest', 'location': '', 'profile_location': None, 'description': 'Blame @MoistHorse, Inspired by @MakingInvisible, using cmu phonetic data to produce incongruous matches. Some images via Lorem Flickr.', 'url': None, 'entities': {'description': {'urls': []}}, 'protected': False, 'followers_count': 1952, 'friends_count': 5, 'listed_count': 56, 'created_at': 'Sat Oct 15 21:32:11 +0000 2016', 'favourites_count': 5, 'utc_offset': None, 'time_zone': None, 'geo_enabled': False, 'verified': False, 'statuses_count': 15840, 'lang': None, 'status': {'created_at': 'Thu May 05 03:00:07 +0000 2022', 'id': 1522048465928278016, 'id_str': '1522048465928278016', 'text': 'We put the \"Not\"\\ninto \"Notable\" https://t.co/OKzgIerpAN', 'truncated': False, 'entities': {'hashtags': [], 'symbols': [], 'user_mentions': [], 'urls': [], 'media': [{'id': 1522048462790938624, 'id_str': '1522048462790938624', 'indices': [32, 55], 'media_url': 'http://pbs.twimg.com/media/FR9nA0OVUAA18l0.jpg', 'media_url_https': 'https://pbs.twimg.com/media/FR9nA0OVUAA18l0.jpg', 'url': 'https://t.co/OKzgIerpAN', 'display_url': 'pic.twitter.com/OKzgIerpAN', 'expanded_url': 'https://twitter.com/best_in_dumbest/status/1522048465928278016/photo/1', 'type': 'photo', 'sizes': {'thumb': {'w': 150, 'h': 150, 'resize': 'crop'}, 'large': {'w': 1024, 'h': 768, 'resize': 'fit'}, 'small': {'w': 680, 'h': 510, 'resize': 'fit'}, 'medium': {'w': 1024, 'h': 768, 'resize': 'fit'}}}]}, 'extended_entities': {'media': [{'id': 1522048462790938624, 'id_str': '1522048462790938624', 'indices': [32, 55], 'media_url': 'http://pbs.twimg.com/media/FR9nA0OVUAA18l0.jpg', 'media_url_https': 'https://pbs.twimg.com/media/FR9nA0OVUAA18l0.jpg', 'url': 'https://t.co/OKzgIerpAN', 'display_url': 'pic.twitter.com/OKzgIerpAN', 'expanded_url': 'https://twitter.com/best_in_dumbest/status/1522048465928278016/photo/1', 'type': 'photo', 'sizes': {'thumb': {'w': 150, 'h': 150, 'resize': 'crop'}, 'large': {'w': 1024, 'h': 768, 'resize': 'fit'}, 'small': {'w': 680, 'h': 510, 'resize': 'fit'}, 'medium': {'w': 1024, 'h': 768, 'resize': 'fit'}}}]}, 'source': '<a href=\"http://moist.horse\" rel=\"nofollow\">Moist Horse</a>', 'in_reply_to_status_id': None, 'in_reply_to_status_id_str': None, 'in_reply_to_user_id': None, 'in_reply_to_user_id_str': None, 'in_reply_to_screen_name': None, 'geo': None, 'coordinates': None, 'place': None, 'contributors': None, 'is_quote_status': False, 'retweet_count': 1, 'favorite_count': 2, 'favorited': False, 'retweeted': False, 'possibly_sensitive': False, 'lang': 'en'}, 'contributors_enabled': False, 'is_translator': False, 'is_translation_enabled': False, 'profile_background_color': '000000', 'profile_background_image_url': 'http://abs.twimg.com/images/themes/theme1/bg.png', 'profile_background_image_url_https': 'https://abs.twimg.com/images/themes/theme1/bg.png', 'profile_background_tile': False, 'profile_image_url': 'http://pbs.twimg.com/profile_images/787412182602428416/5WawZkPa_normal.jpg', 'profile_image_url_https': 'https://pbs.twimg.com/profile_images/787412182602428416/5WawZkPa_normal.jpg', 'profile_banner_url': 'https://pbs.twimg.com/profile_banners/787405734442958848/1476567657', 'profile_link_color': '802840', 'profile_sidebar_border_color': '000000', 'profile_sidebar_fill_color': '000000', 'profile_text_color': '000000', 'profile_use_background_image': False, 'has_extended_profile': False, 'default_profile': False, 'default_profile_image': False, 'following': False, 'follow_request_sent': False, 'notifications': False, 'translator_type': 'none', 'withheld_in_countries': []}, id=787405734442958848, id_str='787405734442958848', name='The Best In Dumbest', screen_name='best_in_dumbest', location='', profile_location=None, description='Blame @MoistHorse, Inspired by @MakingInvisible, using cmu phonetic data to produce incongruous matches. Some images via Lorem Flickr.', url=None, entities={'description': {'urls': []}}, protected=False, followers_count=1952, friends_count=5, listed_count=56, created_at=datetime.datetime(2016, 10, 15, 21, 32, 11), favourites_count=5, utc_offset=None, time_zone=None, geo_enabled=False, verified=False, statuses_count=15840, lang=None, status=Status(_api=<tweepy.api.API object at 0x7faf54e8b850>, _json={'created_at': 'Thu May 05 03:00:07 +0000 2022', 'id': 1522048465928278016, 'id_str': '1522048465928278016', 'text': 'We put the \"Not\"\\ninto \"Notable\" https://t.co/OKzgIerpAN', 'truncated': False, 'entities': {'hashtags': [], 'symbols': [], 'user_mentions': [], 'urls': [], 'media': [{'id': 1522048462790938624, 'id_str': '1522048462790938624', 'indices': [32, 55], 'media_url': 'http://pbs.twimg.com/media/FR9nA0OVUAA18l0.jpg', 'media_url_https': 'https://pbs.twimg.com/media/FR9nA0OVUAA18l0.jpg', 'url': 'https://t.co/OKzgIerpAN', 'display_url': 'pic.twitter.com/OKzgIerpAN', 'expanded_url': 'https://twitter.com/best_in_dumbest/status/1522048465928278016/photo/1', 'type': 'photo', 'sizes': {'thumb': {'w': 150, 'h': 150, 'resize': 'crop'}, 'large': {'w': 1024, 'h': 768, 'resize': 'fit'}, 'small': {'w': 680, 'h': 510, 'resize': 'fit'}, 'medium': {'w': 1024, 'h': 768, 'resize': 'fit'}}}]}, 'extended_entities': {'media': [{'id': 1522048462790938624, 'id_str': '1522048462790938624', 'indices': [32, 55], 'media_url': 'http://pbs.twimg.com/media/FR9nA0OVUAA18l0.jpg', 'media_url_https': 'https://pbs.twimg.com/media/FR9nA0OVUAA18l0.jpg', 'url': 'https://t.co/OKzgIerpAN', 'display_url': 'pic.twitter.com/OKzgIerpAN', 'expanded_url': 'https://twitter.com/best_in_dumbest/status/1522048465928278016/photo/1', 'type': 'photo', 'sizes': {'thumb': {'w': 150, 'h': 150, 'resize': 'crop'}, 'large': {'w': 1024, 'h': 768, 'resize': 'fit'}, 'small': {'w': 680, 'h': 510, 'resize': 'fit'}, 'medium': {'w': 1024, 'h': 768, 'resize': 'fit'}}}]}, 'source': '<a href=\"http://moist.horse\" rel=\"nofollow\">Moist Horse</a>', 'in_reply_to_status_id': None, 'in_reply_to_status_id_str': None, 'in_reply_to_user_id': None, 'in_reply_to_user_id_str': None, 'in_reply_to_screen_name': None, 'geo': None, 'coordinates': None, 'place': None, 'contributors': None, 'is_quote_status': False, 'retweet_count': 1, 'favorite_count': 2, 'favorited': False, 'retweeted': False, 'possibly_sensitive': False, 'lang': 'en'}, created_at=datetime.datetime(2022, 5, 5, 3, 0, 7), id=1522048465928278016, id_str='1522048465928278016', text='We put the \"Not\"\\ninto \"Notable\" https://t.co/OKzgIerpAN', truncated=False, entities={'hashtags': [], 'symbols': [], 'user_mentions': [], 'urls': [], 'media': [{'id': 1522048462790938624, 'id_str': '1522048462790938624', 'indices': [32, 55], 'media_url': 'http://pbs.twimg.com/media/FR9nA0OVUAA18l0.jpg', 'media_url_https': 'https://pbs.twimg.com/media/FR9nA0OVUAA18l0.jpg', 'url': 'https://t.co/OKzgIerpAN', 'display_url': 'pic.twitter.com/OKzgIerpAN', 'expanded_url': 'https://twitter.com/best_in_dumbest/status/1522048465928278016/photo/1', 'type': 'photo', 'sizes': {'thumb': {'w': 150, 'h': 150, 'resize': 'crop'}, 'large': {'w': 1024, 'h': 768, 'resize': 'fit'}, 'small': {'w': 680, 'h': 510, 'resize': 'fit'}, 'medium': {'w': 1024, 'h': 768, 'resize': 'fit'}}}]}, extended_entities={'media': [{'id': 1522048462790938624, 'id_str': '1522048462790938624', 'indices': [32, 55], 'media_url': 'http://pbs.twimg.com/media/FR9nA0OVUAA18l0.jpg', 'media_url_https': 'https://pbs.twimg.com/media/FR9nA0OVUAA18l0.jpg', 'url': 'https://t.co/OKzgIerpAN', 'display_url': 'pic.twitter.com/OKzgIerpAN', 'expanded_url': 'https://twitter.com/best_in_dumbest/status/1522048465928278016/photo/1', 'type': 'photo', 'sizes': {'thumb': {'w': 150, 'h': 150, 'resize': 'crop'}, 'large': {'w': 1024, 'h': 768, 'resize': 'fit'}, 'small': {'w': 680, 'h': 510, 'resize': 'fit'}, 'medium': {'w': 1024, 'h': 768, 'resize': 'fit'}}}]}, source='Moist Horse', source_url='http://moist.horse', in_reply_to_status_id=None, in_reply_to_status_id_str=None, in_reply_to_user_id=None, in_reply_to_user_id_str=None, in_reply_to_screen_name=None, geo=None, coordinates=None, place=None, contributors=None, is_quote_status=False, retweet_count=1, favorite_count=2, favorited=False, retweeted=False, possibly_sensitive=False, lang='en'), contributors_enabled=False, is_translator=False, is_translation_enabled=False, profile_background_color='000000', profile_background_image_url='http://abs.twimg.com/images/themes/theme1/bg.png', profile_background_image_url_https='https://abs.twimg.com/images/themes/theme1/bg.png', profile_background_tile=False, profile_image_url='http://pbs.twimg.com/profile_images/787412182602428416/5WawZkPa_normal.jpg', profile_image_url_https='https://pbs.twimg.com/profile_images/787412182602428416/5WawZkPa_normal.jpg', profile_banner_url='https://pbs.twimg.com/profile_banners/787405734442958848/1476567657', profile_link_color='802840', profile_sidebar_border_color='000000', profile_sidebar_fill_color='000000', profile_text_color='000000', profile_use_background_image=False, has_extended_profile=False, default_profile=False, default_profile_image=False, following=False, follow_request_sent=False, notifications=False, translator_type='none', withheld_in_countries=[])"
            ]
          },
          "metadata": {},
          "execution_count": 72
        }
      ]
    },
    {
      "cell_type": "code",
      "source": [
        "following = []\n",
        "followers = []\n",
        "name = []\n",
        "ver = []\n",
        "loc = []\n",
        "des = []\n",
        "stcount= []\n",
        "pback= []\n",
        "favcount=[]\n",
        "pcolor=[]\n",
        "backtile=[]\n",
        "protected=[]\n",
        "target=[]\n",
        "\n",
        "suspended=0\n",
        "for i in range (0,37400): #did for 37400\n",
        "  a=df['id'][i]\n",
        "  try:  ### Exception handling starts here\n",
        "    user=api.get_user(a)\n",
        "    following.append(user.friends_count)\n",
        "    followers.append(user.followers_count)\n",
        "    name.append(user.screen_name)\n",
        "    ver.append(user.verified)\n",
        "    loc.append(user.location)\n",
        "    des.append(user.description)\n",
        "    stcount.append(user.statuses_count)\n",
        "    pback.append(user.profile_use_background_image)\n",
        "    favcount.append(user.favourites_count)\n",
        "    pcolor.append(user.profile_text_color)\n",
        "    backtile.append(user.profile_background_tile)\n",
        "    protected.append(user.protected)\n",
        "    target.append(df['account_type'][i])\n",
        "\n",
        "  except tweepy.error.TweepError:\n",
        "    suspended=suspended+1\n",
        "\n",
        "print(suspended,\" users are suspended\")"
      ],
      "metadata": {
        "colab": {
          "base_uri": "https://localhost:8080/"
        },
        "id": "baDd9xz9Pnp1",
        "outputId": "590aceca-08ff-414e-bd88-dfa820aa1d0f"
      },
      "execution_count": null,
      "outputs": [
        {
          "output_type": "stream",
          "name": "stdout",
          "text": [
            "0  users are suspended\n"
          ]
        }
      ]
    },
    {
      "cell_type": "code",
      "source": [
        "list_of_tuples = list(zip(following, \n",
        "                          followers,\n",
        "                          name,\n",
        "                          ver,\n",
        "                          loc,\n",
        "                          des,\n",
        "                          stcount,\n",
        "                          pback,\n",
        "                          favcount,\n",
        "                          pcolor,\n",
        "                          backtile,\n",
        "                          protected,\n",
        "                          target) )"
      ],
      "metadata": {
        "id": "GCxX0r3oPrhx"
      },
      "execution_count": null,
      "outputs": []
    },
    {
      "cell_type": "code",
      "source": [
        "data = pd.DataFrame(list_of_tuples,\n",
        "                  columns = ['following', 'followers', 'name', 'ver', 'loc', 'des', 'stcount', 'pback', 'favcount', 'pcolor','backtile','protected', 'target'])"
      ],
      "metadata": {
        "id": "xZ1KiI4uP6oG"
      },
      "execution_count": null,
      "outputs": []
    },
    {
      "cell_type": "code",
      "source": [
        "data=pd.read_csv('/content/drive/My Drive/Dataset/bot.csv', lineterminator='\\n')"
      ],
      "metadata": {
        "id": "WKL2G49yP94-"
      },
      "execution_count": null,
      "outputs": []
    },
    {
      "cell_type": "code",
      "source": [
        "data"
      ],
      "metadata": {
        "colab": {
          "base_uri": "https://localhost:8080/",
          "height": 143
        },
        "id": "ulDXxS21P8ch",
        "outputId": "fded3a58-263e-451d-eb64-5af324d15bd0"
      },
      "execution_count": null,
      "outputs": [
        {
          "output_type": "execute_result",
          "data": {
            "text/plain": [
              "   following  followers             name    ver            loc  \\\n",
              "0          5       1952  best_in_dumbest  False                  \n",
              "1        837        799     CJRubinPhoto  False  United States   \n",
              "2        975        190         SVGEGENT  False                  \n",
              "\n",
              "                                                 des  stcount  pback  \\\n",
              "0  Blame @MoistHorse, Inspired by @MakingInvisibl...    15840  False   \n",
              "1  Photographing the American West since 1980. I ...      251  False   \n",
              "2  𝖙𝖍𝖊 𝖘𝖆𝖛𝖆𝖌𝖊 𝖌𝖊𝖓𝖙𝖑𝖊𝖒𝖆𝖓                          ...     1321  False   \n",
              "\n",
              "   favcount  pcolor  backtile  protected target  \n",
              "0         5  000000     False      False    bot  \n",
              "1       512  000000     False      False  human  \n",
              "2      4545  000000     False      False  human  "
            ],
            "text/html": [
              "\n",
              "  <div id=\"df-987f7a7b-bba3-4c53-b8f4-32b9ba251347\">\n",
              "    <div class=\"colab-df-container\">\n",
              "      <div>\n",
              "<style scoped>\n",
              "    .dataframe tbody tr th:only-of-type {\n",
              "        vertical-align: middle;\n",
              "    }\n",
              "\n",
              "    .dataframe tbody tr th {\n",
              "        vertical-align: top;\n",
              "    }\n",
              "\n",
              "    .dataframe thead th {\n",
              "        text-align: right;\n",
              "    }\n",
              "</style>\n",
              "<table border=\"1\" class=\"dataframe\">\n",
              "  <thead>\n",
              "    <tr style=\"text-align: right;\">\n",
              "      <th></th>\n",
              "      <th>following</th>\n",
              "      <th>followers</th>\n",
              "      <th>name</th>\n",
              "      <th>ver</th>\n",
              "      <th>loc</th>\n",
              "      <th>des</th>\n",
              "      <th>stcount</th>\n",
              "      <th>pback</th>\n",
              "      <th>favcount</th>\n",
              "      <th>pcolor</th>\n",
              "      <th>backtile</th>\n",
              "      <th>protected</th>\n",
              "      <th>target</th>\n",
              "    </tr>\n",
              "  </thead>\n",
              "  <tbody>\n",
              "    <tr>\n",
              "      <th>0</th>\n",
              "      <td>5</td>\n",
              "      <td>1952</td>\n",
              "      <td>best_in_dumbest</td>\n",
              "      <td>False</td>\n",
              "      <td></td>\n",
              "      <td>Blame @MoistHorse, Inspired by @MakingInvisibl...</td>\n",
              "      <td>15840</td>\n",
              "      <td>False</td>\n",
              "      <td>5</td>\n",
              "      <td>000000</td>\n",
              "      <td>False</td>\n",
              "      <td>False</td>\n",
              "      <td>bot</td>\n",
              "    </tr>\n",
              "    <tr>\n",
              "      <th>1</th>\n",
              "      <td>837</td>\n",
              "      <td>799</td>\n",
              "      <td>CJRubinPhoto</td>\n",
              "      <td>False</td>\n",
              "      <td>United States</td>\n",
              "      <td>Photographing the American West since 1980. I ...</td>\n",
              "      <td>251</td>\n",
              "      <td>False</td>\n",
              "      <td>512</td>\n",
              "      <td>000000</td>\n",
              "      <td>False</td>\n",
              "      <td>False</td>\n",
              "      <td>human</td>\n",
              "    </tr>\n",
              "    <tr>\n",
              "      <th>2</th>\n",
              "      <td>975</td>\n",
              "      <td>190</td>\n",
              "      <td>SVGEGENT</td>\n",
              "      <td>False</td>\n",
              "      <td></td>\n",
              "      <td>𝖙𝖍𝖊 𝖘𝖆𝖛𝖆𝖌𝖊 𝖌𝖊𝖓𝖙𝖑𝖊𝖒𝖆𝖓                          ...</td>\n",
              "      <td>1321</td>\n",
              "      <td>False</td>\n",
              "      <td>4545</td>\n",
              "      <td>000000</td>\n",
              "      <td>False</td>\n",
              "      <td>False</td>\n",
              "      <td>human</td>\n",
              "    </tr>\n",
              "  </tbody>\n",
              "</table>\n",
              "</div>\n",
              "      <button class=\"colab-df-convert\" onclick=\"convertToInteractive('df-987f7a7b-bba3-4c53-b8f4-32b9ba251347')\"\n",
              "              title=\"Convert this dataframe to an interactive table.\"\n",
              "              style=\"display:none;\">\n",
              "        \n",
              "  <svg xmlns=\"http://www.w3.org/2000/svg\" height=\"24px\"viewBox=\"0 0 24 24\"\n",
              "       width=\"24px\">\n",
              "    <path d=\"M0 0h24v24H0V0z\" fill=\"none\"/>\n",
              "    <path d=\"M18.56 5.44l.94 2.06.94-2.06 2.06-.94-2.06-.94-.94-2.06-.94 2.06-2.06.94zm-11 1L8.5 8.5l.94-2.06 2.06-.94-2.06-.94L8.5 2.5l-.94 2.06-2.06.94zm10 10l.94 2.06.94-2.06 2.06-.94-2.06-.94-.94-2.06-.94 2.06-2.06.94z\"/><path d=\"M17.41 7.96l-1.37-1.37c-.4-.4-.92-.59-1.43-.59-.52 0-1.04.2-1.43.59L10.3 9.45l-7.72 7.72c-.78.78-.78 2.05 0 2.83L4 21.41c.39.39.9.59 1.41.59.51 0 1.02-.2 1.41-.59l7.78-7.78 2.81-2.81c.8-.78.8-2.07 0-2.86zM5.41 20L4 18.59l7.72-7.72 1.47 1.35L5.41 20z\"/>\n",
              "  </svg>\n",
              "      </button>\n",
              "      \n",
              "  <style>\n",
              "    .colab-df-container {\n",
              "      display:flex;\n",
              "      flex-wrap:wrap;\n",
              "      gap: 12px;\n",
              "    }\n",
              "\n",
              "    .colab-df-convert {\n",
              "      background-color: #E8F0FE;\n",
              "      border: none;\n",
              "      border-radius: 50%;\n",
              "      cursor: pointer;\n",
              "      display: none;\n",
              "      fill: #1967D2;\n",
              "      height: 32px;\n",
              "      padding: 0 0 0 0;\n",
              "      width: 32px;\n",
              "    }\n",
              "\n",
              "    .colab-df-convert:hover {\n",
              "      background-color: #E2EBFA;\n",
              "      box-shadow: 0px 1px 2px rgba(60, 64, 67, 0.3), 0px 1px 3px 1px rgba(60, 64, 67, 0.15);\n",
              "      fill: #174EA6;\n",
              "    }\n",
              "\n",
              "    [theme=dark] .colab-df-convert {\n",
              "      background-color: #3B4455;\n",
              "      fill: #D2E3FC;\n",
              "    }\n",
              "\n",
              "    [theme=dark] .colab-df-convert:hover {\n",
              "      background-color: #434B5C;\n",
              "      box-shadow: 0px 1px 3px 1px rgba(0, 0, 0, 0.15);\n",
              "      filter: drop-shadow(0px 1px 2px rgba(0, 0, 0, 0.3));\n",
              "      fill: #FFFFFF;\n",
              "    }\n",
              "  </style>\n",
              "\n",
              "      <script>\n",
              "        const buttonEl =\n",
              "          document.querySelector('#df-987f7a7b-bba3-4c53-b8f4-32b9ba251347 button.colab-df-convert');\n",
              "        buttonEl.style.display =\n",
              "          google.colab.kernel.accessAllowed ? 'block' : 'none';\n",
              "\n",
              "        async function convertToInteractive(key) {\n",
              "          const element = document.querySelector('#df-987f7a7b-bba3-4c53-b8f4-32b9ba251347');\n",
              "          const dataTable =\n",
              "            await google.colab.kernel.invokeFunction('convertToInteractive',\n",
              "                                                     [key], {});\n",
              "          if (!dataTable) return;\n",
              "\n",
              "          const docLinkHtml = 'Like what you see? Visit the ' +\n",
              "            '<a target=\"_blank\" href=https://colab.research.google.com/notebooks/data_table.ipynb>data table notebook</a>'\n",
              "            + ' to learn more about interactive tables.';\n",
              "          element.innerHTML = '';\n",
              "          dataTable['output_type'] = 'display_data';\n",
              "          await google.colab.output.renderOutput(dataTable, element);\n",
              "          const docLink = document.createElement('div');\n",
              "          docLink.innerHTML = docLinkHtml;\n",
              "          element.appendChild(docLink);\n",
              "        }\n",
              "      </script>\n",
              "    </div>\n",
              "  </div>\n",
              "  "
            ]
          },
          "metadata": {},
          "execution_count": 76
        }
      ]
    },
    {
      "cell_type": "code",
      "source": [
        "data['target'].value_counts()"
      ],
      "metadata": {
        "colab": {
          "base_uri": "https://localhost:8080/"
        },
        "id": "oaXSszS2QBSx",
        "outputId": "f8f6e6be-054e-48ec-8213-20864035b83d"
      },
      "execution_count": null,
      "outputs": [
        {
          "output_type": "execute_result",
          "data": {
            "text/plain": [
              "human    2325\n",
              "bot      1144\n",
              "Name: target, dtype: int64"
            ]
          },
          "metadata": {},
          "execution_count": 78
        }
      ]
    },
    {
      "cell_type": "code",
      "source": [
        "data.protected.value_counts()"
      ],
      "metadata": {
        "colab": {
          "base_uri": "https://localhost:8080/"
        },
        "id": "9uIfqG1xQCvr",
        "outputId": "c51bd7e1-727f-47f8-b67d-28a212ce5c4c"
      },
      "execution_count": null,
      "outputs": [
        {
          "output_type": "execute_result",
          "data": {
            "text/plain": [
              "False    3308\n",
              "True      161\n",
              "Name: protected, dtype: int64"
            ]
          },
          "metadata": {},
          "execution_count": 79
        }
      ]
    },
    {
      "cell_type": "code",
      "source": [
        "data['des'].fillna(\"None\", inplace=True)\n",
        "data['loc'].fillna(\"None\", inplace=True)"
      ],
      "metadata": {
        "id": "41yn7uB4QEUW"
      },
      "execution_count": null,
      "outputs": []
    },
    {
      "cell_type": "code",
      "source": [
        "data"
      ],
      "metadata": {
        "colab": {
          "base_uri": "https://localhost:8080/",
          "height": 589
        },
        "id": "8Dm3jumQQFmc",
        "outputId": "2b0748ca-713d-443f-96fa-70f9e5eaf4f5"
      },
      "execution_count": null,
      "outputs": [
        {
          "output_type": "execute_result",
          "data": {
            "text/plain": [
              "      Unnamed: 0  following  followers             name    ver  \\\n",
              "0              0          5       1944  best_in_dumbest  False   \n",
              "1              1        837        799     CJRubinPhoto  False   \n",
              "2              2        972        189         SVGEGENT  False   \n",
              "3              3        808        716  TinkerVISIONK12  False   \n",
              "4              4        126     738545    JoleonLescott   True   \n",
              "...          ...        ...        ...              ...    ...   \n",
              "3464        3464        298     297227   Laura_Esquivel   True   \n",
              "3465        3465        833        917         Elly15vs  False   \n",
              "3466        3466         16         55        bloodyomo  False   \n",
              "3467        3467     290868     351802        LukeRomyn   True   \n",
              "3468        3468        279      12602       GeegTorres  False   \n",
              "\n",
              "                          loc  \\\n",
              "0                        None   \n",
              "1               United States   \n",
              "2                        None   \n",
              "3              Birmingham, AL   \n",
              "4     England, United Kingdom   \n",
              "...                       ...   \n",
              "3464                Argentina   \n",
              "3465                     Roma   \n",
              "3466                     None   \n",
              "3467                Australia   \n",
              "3468                     None   \n",
              "\n",
              "                                                    des  stcount  pback  \\\n",
              "0     Blame @xaiax, Inspired by @MakingInvisible, us...    15798  False   \n",
              "1     Photographing the American West since 1980. I ...      251  False   \n",
              "2     𝖙𝖍𝖊 𝖘𝖆𝖛𝖆𝖌𝖊 𝖌𝖊𝖓𝖙𝖑𝖊𝖒𝖆𝖓                          ...     1318  False   \n",
              "3     Wife.Godmother.Friend.Feline Fanatic! VISION P...     2275   True   \n",
              "4     England U21 Assistant Coach | @pumafootball Am...     4594   True   \n",
              "...                                                 ...      ...    ...   \n",
              "3464                                 👇🏻 “Y Ahora Qué” 💘    15255  False   \n",
              "3465  - Hi! I'm Elisa 🙋🏼🇮🇹 - Graduated in Foreign La...    15262   True   \n",
              "3466                               Professional tweeter     2576   True   \n",
              "3467  USA Today and Amazon #1 best selling author. R...   119324   True   \n",
              "3468  Choreographer 💃🏻 Dance Educator 👩🏻‍🏫 Mentor 💁🏻...    21275   True   \n",
              "\n",
              "      favcount  pcolor  backtile  protected target  \n",
              "0            5  000000     False      False    bot  \n",
              "1          512  000000     False      False  human  \n",
              "2         4527  000000     False      False  human  \n",
              "3        15804  333333     False      False  human  \n",
              "4          449  333333     False      False  human  \n",
              "...        ...     ...       ...        ...    ...  \n",
              "3464      1230  5E412F     False      False  human  \n",
              "3465      4290  333333     False      False    bot  \n",
              "3466      2035  666666      True      False    bot  \n",
              "3467      2097  666666     False      False  human  \n",
              "3468        63  333333      True      False  human  \n",
              "\n",
              "[3469 rows x 14 columns]"
            ],
            "text/html": [
              "\n",
              "  <div id=\"df-daa7bfb6-6904-4edd-ae9f-a0013880212a\">\n",
              "    <div class=\"colab-df-container\">\n",
              "      <div>\n",
              "<style scoped>\n",
              "    .dataframe tbody tr th:only-of-type {\n",
              "        vertical-align: middle;\n",
              "    }\n",
              "\n",
              "    .dataframe tbody tr th {\n",
              "        vertical-align: top;\n",
              "    }\n",
              "\n",
              "    .dataframe thead th {\n",
              "        text-align: right;\n",
              "    }\n",
              "</style>\n",
              "<table border=\"1\" class=\"dataframe\">\n",
              "  <thead>\n",
              "    <tr style=\"text-align: right;\">\n",
              "      <th></th>\n",
              "      <th>Unnamed: 0</th>\n",
              "      <th>following</th>\n",
              "      <th>followers</th>\n",
              "      <th>name</th>\n",
              "      <th>ver</th>\n",
              "      <th>loc</th>\n",
              "      <th>des</th>\n",
              "      <th>stcount</th>\n",
              "      <th>pback</th>\n",
              "      <th>favcount</th>\n",
              "      <th>pcolor</th>\n",
              "      <th>backtile</th>\n",
              "      <th>protected</th>\n",
              "      <th>target</th>\n",
              "    </tr>\n",
              "  </thead>\n",
              "  <tbody>\n",
              "    <tr>\n",
              "      <th>0</th>\n",
              "      <td>0</td>\n",
              "      <td>5</td>\n",
              "      <td>1944</td>\n",
              "      <td>best_in_dumbest</td>\n",
              "      <td>False</td>\n",
              "      <td>None</td>\n",
              "      <td>Blame @xaiax, Inspired by @MakingInvisible, us...</td>\n",
              "      <td>15798</td>\n",
              "      <td>False</td>\n",
              "      <td>5</td>\n",
              "      <td>000000</td>\n",
              "      <td>False</td>\n",
              "      <td>False</td>\n",
              "      <td>bot</td>\n",
              "    </tr>\n",
              "    <tr>\n",
              "      <th>1</th>\n",
              "      <td>1</td>\n",
              "      <td>837</td>\n",
              "      <td>799</td>\n",
              "      <td>CJRubinPhoto</td>\n",
              "      <td>False</td>\n",
              "      <td>United States</td>\n",
              "      <td>Photographing the American West since 1980. I ...</td>\n",
              "      <td>251</td>\n",
              "      <td>False</td>\n",
              "      <td>512</td>\n",
              "      <td>000000</td>\n",
              "      <td>False</td>\n",
              "      <td>False</td>\n",
              "      <td>human</td>\n",
              "    </tr>\n",
              "    <tr>\n",
              "      <th>2</th>\n",
              "      <td>2</td>\n",
              "      <td>972</td>\n",
              "      <td>189</td>\n",
              "      <td>SVGEGENT</td>\n",
              "      <td>False</td>\n",
              "      <td>None</td>\n",
              "      <td>𝖙𝖍𝖊 𝖘𝖆𝖛𝖆𝖌𝖊 𝖌𝖊𝖓𝖙𝖑𝖊𝖒𝖆𝖓                          ...</td>\n",
              "      <td>1318</td>\n",
              "      <td>False</td>\n",
              "      <td>4527</td>\n",
              "      <td>000000</td>\n",
              "      <td>False</td>\n",
              "      <td>False</td>\n",
              "      <td>human</td>\n",
              "    </tr>\n",
              "    <tr>\n",
              "      <th>3</th>\n",
              "      <td>3</td>\n",
              "      <td>808</td>\n",
              "      <td>716</td>\n",
              "      <td>TinkerVISIONK12</td>\n",
              "      <td>False</td>\n",
              "      <td>Birmingham, AL</td>\n",
              "      <td>Wife.Godmother.Friend.Feline Fanatic! VISION P...</td>\n",
              "      <td>2275</td>\n",
              "      <td>True</td>\n",
              "      <td>15804</td>\n",
              "      <td>333333</td>\n",
              "      <td>False</td>\n",
              "      <td>False</td>\n",
              "      <td>human</td>\n",
              "    </tr>\n",
              "    <tr>\n",
              "      <th>4</th>\n",
              "      <td>4</td>\n",
              "      <td>126</td>\n",
              "      <td>738545</td>\n",
              "      <td>JoleonLescott</td>\n",
              "      <td>True</td>\n",
              "      <td>England, United Kingdom</td>\n",
              "      <td>England U21 Assistant Coach | @pumafootball Am...</td>\n",
              "      <td>4594</td>\n",
              "      <td>True</td>\n",
              "      <td>449</td>\n",
              "      <td>333333</td>\n",
              "      <td>False</td>\n",
              "      <td>False</td>\n",
              "      <td>human</td>\n",
              "    </tr>\n",
              "    <tr>\n",
              "      <th>...</th>\n",
              "      <td>...</td>\n",
              "      <td>...</td>\n",
              "      <td>...</td>\n",
              "      <td>...</td>\n",
              "      <td>...</td>\n",
              "      <td>...</td>\n",
              "      <td>...</td>\n",
              "      <td>...</td>\n",
              "      <td>...</td>\n",
              "      <td>...</td>\n",
              "      <td>...</td>\n",
              "      <td>...</td>\n",
              "      <td>...</td>\n",
              "      <td>...</td>\n",
              "    </tr>\n",
              "    <tr>\n",
              "      <th>3464</th>\n",
              "      <td>3464</td>\n",
              "      <td>298</td>\n",
              "      <td>297227</td>\n",
              "      <td>Laura_Esquivel</td>\n",
              "      <td>True</td>\n",
              "      <td>Argentina</td>\n",
              "      <td>👇🏻 “Y Ahora Qué” 💘</td>\n",
              "      <td>15255</td>\n",
              "      <td>False</td>\n",
              "      <td>1230</td>\n",
              "      <td>5E412F</td>\n",
              "      <td>False</td>\n",
              "      <td>False</td>\n",
              "      <td>human</td>\n",
              "    </tr>\n",
              "    <tr>\n",
              "      <th>3465</th>\n",
              "      <td>3465</td>\n",
              "      <td>833</td>\n",
              "      <td>917</td>\n",
              "      <td>Elly15vs</td>\n",
              "      <td>False</td>\n",
              "      <td>Roma</td>\n",
              "      <td>- Hi! I'm Elisa 🙋🏼🇮🇹 - Graduated in Foreign La...</td>\n",
              "      <td>15262</td>\n",
              "      <td>True</td>\n",
              "      <td>4290</td>\n",
              "      <td>333333</td>\n",
              "      <td>False</td>\n",
              "      <td>False</td>\n",
              "      <td>bot</td>\n",
              "    </tr>\n",
              "    <tr>\n",
              "      <th>3466</th>\n",
              "      <td>3466</td>\n",
              "      <td>16</td>\n",
              "      <td>55</td>\n",
              "      <td>bloodyomo</td>\n",
              "      <td>False</td>\n",
              "      <td>None</td>\n",
              "      <td>Professional tweeter</td>\n",
              "      <td>2576</td>\n",
              "      <td>True</td>\n",
              "      <td>2035</td>\n",
              "      <td>666666</td>\n",
              "      <td>True</td>\n",
              "      <td>False</td>\n",
              "      <td>bot</td>\n",
              "    </tr>\n",
              "    <tr>\n",
              "      <th>3467</th>\n",
              "      <td>3467</td>\n",
              "      <td>290868</td>\n",
              "      <td>351802</td>\n",
              "      <td>LukeRomyn</td>\n",
              "      <td>True</td>\n",
              "      <td>Australia</td>\n",
              "      <td>USA Today and Amazon #1 best selling author. R...</td>\n",
              "      <td>119324</td>\n",
              "      <td>True</td>\n",
              "      <td>2097</td>\n",
              "      <td>666666</td>\n",
              "      <td>False</td>\n",
              "      <td>False</td>\n",
              "      <td>human</td>\n",
              "    </tr>\n",
              "    <tr>\n",
              "      <th>3468</th>\n",
              "      <td>3468</td>\n",
              "      <td>279</td>\n",
              "      <td>12602</td>\n",
              "      <td>GeegTorres</td>\n",
              "      <td>False</td>\n",
              "      <td>None</td>\n",
              "      <td>Choreographer 💃🏻 Dance Educator 👩🏻‍🏫 Mentor 💁🏻...</td>\n",
              "      <td>21275</td>\n",
              "      <td>True</td>\n",
              "      <td>63</td>\n",
              "      <td>333333</td>\n",
              "      <td>True</td>\n",
              "      <td>False</td>\n",
              "      <td>human</td>\n",
              "    </tr>\n",
              "  </tbody>\n",
              "</table>\n",
              "<p>3469 rows × 14 columns</p>\n",
              "</div>\n",
              "      <button class=\"colab-df-convert\" onclick=\"convertToInteractive('df-daa7bfb6-6904-4edd-ae9f-a0013880212a')\"\n",
              "              title=\"Convert this dataframe to an interactive table.\"\n",
              "              style=\"display:none;\">\n",
              "        \n",
              "  <svg xmlns=\"http://www.w3.org/2000/svg\" height=\"24px\"viewBox=\"0 0 24 24\"\n",
              "       width=\"24px\">\n",
              "    <path d=\"M0 0h24v24H0V0z\" fill=\"none\"/>\n",
              "    <path d=\"M18.56 5.44l.94 2.06.94-2.06 2.06-.94-2.06-.94-.94-2.06-.94 2.06-2.06.94zm-11 1L8.5 8.5l.94-2.06 2.06-.94-2.06-.94L8.5 2.5l-.94 2.06-2.06.94zm10 10l.94 2.06.94-2.06 2.06-.94-2.06-.94-.94-2.06-.94 2.06-2.06.94z\"/><path d=\"M17.41 7.96l-1.37-1.37c-.4-.4-.92-.59-1.43-.59-.52 0-1.04.2-1.43.59L10.3 9.45l-7.72 7.72c-.78.78-.78 2.05 0 2.83L4 21.41c.39.39.9.59 1.41.59.51 0 1.02-.2 1.41-.59l7.78-7.78 2.81-2.81c.8-.78.8-2.07 0-2.86zM5.41 20L4 18.59l7.72-7.72 1.47 1.35L5.41 20z\"/>\n",
              "  </svg>\n",
              "      </button>\n",
              "      \n",
              "  <style>\n",
              "    .colab-df-container {\n",
              "      display:flex;\n",
              "      flex-wrap:wrap;\n",
              "      gap: 12px;\n",
              "    }\n",
              "\n",
              "    .colab-df-convert {\n",
              "      background-color: #E8F0FE;\n",
              "      border: none;\n",
              "      border-radius: 50%;\n",
              "      cursor: pointer;\n",
              "      display: none;\n",
              "      fill: #1967D2;\n",
              "      height: 32px;\n",
              "      padding: 0 0 0 0;\n",
              "      width: 32px;\n",
              "    }\n",
              "\n",
              "    .colab-df-convert:hover {\n",
              "      background-color: #E2EBFA;\n",
              "      box-shadow: 0px 1px 2px rgba(60, 64, 67, 0.3), 0px 1px 3px 1px rgba(60, 64, 67, 0.15);\n",
              "      fill: #174EA6;\n",
              "    }\n",
              "\n",
              "    [theme=dark] .colab-df-convert {\n",
              "      background-color: #3B4455;\n",
              "      fill: #D2E3FC;\n",
              "    }\n",
              "\n",
              "    [theme=dark] .colab-df-convert:hover {\n",
              "      background-color: #434B5C;\n",
              "      box-shadow: 0px 1px 3px 1px rgba(0, 0, 0, 0.15);\n",
              "      filter: drop-shadow(0px 1px 2px rgba(0, 0, 0, 0.3));\n",
              "      fill: #FFFFFF;\n",
              "    }\n",
              "  </style>\n",
              "\n",
              "      <script>\n",
              "        const buttonEl =\n",
              "          document.querySelector('#df-daa7bfb6-6904-4edd-ae9f-a0013880212a button.colab-df-convert');\n",
              "        buttonEl.style.display =\n",
              "          google.colab.kernel.accessAllowed ? 'block' : 'none';\n",
              "\n",
              "        async function convertToInteractive(key) {\n",
              "          const element = document.querySelector('#df-daa7bfb6-6904-4edd-ae9f-a0013880212a');\n",
              "          const dataTable =\n",
              "            await google.colab.kernel.invokeFunction('convertToInteractive',\n",
              "                                                     [key], {});\n",
              "          if (!dataTable) return;\n",
              "\n",
              "          const docLinkHtml = 'Like what you see? Visit the ' +\n",
              "            '<a target=\"_blank\" href=https://colab.research.google.com/notebooks/data_table.ipynb>data table notebook</a>'\n",
              "            + ' to learn more about interactive tables.';\n",
              "          element.innerHTML = '';\n",
              "          dataTable['output_type'] = 'display_data';\n",
              "          await google.colab.output.renderOutput(dataTable, element);\n",
              "          const docLink = document.createElement('div');\n",
              "          docLink.innerHTML = docLinkHtml;\n",
              "          element.appendChild(docLink);\n",
              "        }\n",
              "      </script>\n",
              "    </div>\n",
              "  </div>\n",
              "  "
            ]
          },
          "metadata": {},
          "execution_count": 81
        }
      ]
    },
    {
      "cell_type": "code",
      "source": [
        "def vectorize(bots, condition):\n",
        "    bots['screen_name'] = (bots.name.str.contains(\"bot\", case=False)==True)\n",
        "    bots['description'] = (bots.des.str.contains(\"bot\", case=False)==True)\n",
        "\n",
        "    return bots"
      ],
      "metadata": {
        "id": "gHBUwLdDQGvQ"
      },
      "execution_count": null,
      "outputs": []
    },
    {
      "cell_type": "code",
      "source": [
        "condition = (data.name.str.contains(\"bot\", case=False)==True)|(data.des.str.contains(\"bot\", case=False)==True)\n",
        "df = vectorize(data, condition)"
      ],
      "metadata": {
        "id": "cAnHPpvlQKMG"
      },
      "execution_count": null,
      "outputs": []
    },
    {
      "cell_type": "code",
      "source": [
        "l=df.shape[0]\n",
        "location=[]"
      ],
      "metadata": {
        "id": "fvgLkhC_QL9r"
      },
      "execution_count": null,
      "outputs": []
    },
    {
      "cell_type": "code",
      "source": [
        "for i in range(0,l):\n",
        "  if df['loc'][i]==\"None\":\n",
        "    location.append(False)\n",
        "  else:\n",
        "    location.append(True)"
      ],
      "metadata": {
        "id": "Qfm7t25cQNMY"
      },
      "execution_count": null,
      "outputs": []
    },
    {
      "cell_type": "code",
      "source": [
        "df['location']=location\n",
        "df=df.drop(['Unnamed: 0','name', 'loc', 'des', 'pcolor'], axis = 1)"
      ],
      "metadata": {
        "id": "EXM6LhnIQPA1"
      },
      "execution_count": null,
      "outputs": []
    },
    {
      "cell_type": "code",
      "source": [
        "#Splitting data randombly into train_df and test_df\n",
        "from sklearn.model_selection import train_test_split\n",
        "train_df, test_df = train_test_split(df, test_size=0.2)\n",
        "print(\"Randomly splitting the dataset into training and test, and training classifiers.\\n\")"
      ],
      "metadata": {
        "colab": {
          "base_uri": "https://localhost:8080/"
        },
        "id": "s3UhVGbsQlfX",
        "outputId": "78142692-caa2-47ae-f946-40cc20863bdc"
      },
      "execution_count": null,
      "outputs": [
        {
          "output_type": "stream",
          "name": "stdout",
          "text": [
            "Randomly splitting the dataset into training and test, and training classifiers.\n",
            "\n"
          ]
        }
      ]
    },
    {
      "cell_type": "code",
      "source": [
        "#80%\n",
        "X_train = train_df[['following', 'followers', 'screen_name', 'ver', 'location', 'description', 'stcount', 'pback', 'favcount', 'backtile','protected']] #train_data\n",
        "y_train = train_df['target'] #train_target\n",
        "\n",
        "#20%\n",
        "X_test = test_df[['following', 'followers', 'screen_name', 'ver', 'location', 'description', 'stcount', 'pback', 'favcount', 'backtile','protected']]#test_Data\n",
        "y_test = test_df['target'] #test_target"
      ],
      "metadata": {
        "id": "maaolGu7QQMr"
      },
      "execution_count": null,
      "outputs": []
    },
    {
      "cell_type": "code",
      "source": [
        "df['target'].value_counts()"
      ],
      "metadata": {
        "colab": {
          "base_uri": "https://localhost:8080/"
        },
        "id": "WnfT8g5wqr3X",
        "outputId": "f4554e05-677f-427e-a901-c95558112bf4"
      },
      "execution_count": null,
      "outputs": [
        {
          "output_type": "execute_result",
          "data": {
            "text/plain": [
              "human    2325\n",
              "bot      1144\n",
              "Name: target, dtype: int64"
            ]
          },
          "metadata": {},
          "execution_count": 89
        }
      ]
    },
    {
      "cell_type": "code",
      "source": [
        "y_test.value_counts()"
      ],
      "metadata": {
        "colab": {
          "base_uri": "https://localhost:8080/"
        },
        "id": "dxx1RDpAqfz8",
        "outputId": "1a7233e7-738b-4c77-9383-d53f69ab061b"
      },
      "execution_count": null,
      "outputs": [
        {
          "output_type": "execute_result",
          "data": {
            "text/plain": [
              "human    470\n",
              "bot      224\n",
              "Name: target, dtype: int64"
            ]
          },
          "metadata": {},
          "execution_count": 90
        }
      ]
    },
    {
      "cell_type": "markdown",
      "source": [
        "## Decision Trees Classifier"
      ],
      "metadata": {
        "id": "KbGkQxL3QovE"
      }
    },
    {
      "cell_type": "code",
      "source": [
        "#Using Decision Tree Classifier\n",
        "from sklearn.tree import DecisionTreeClassifier\n",
        "from sklearn.metrics import accuracy_score"
      ],
      "metadata": {
        "id": "L_cxt1SoQg2f"
      },
      "execution_count": null,
      "outputs": []
    },
    {
      "cell_type": "code",
      "source": [
        "from sklearn.model_selection import GridSearchCV\n",
        "d=[1,3,5,6,7,8,9,10]\n",
        "gp_dt={\n",
        "    'criterion':[\"gini\", \"entropy\"],\n",
        "    'splitter':[\"best\",\"random\"],\n",
        "    'max_depth':d\n",
        "    }\n",
        "\n",
        "dt = DecisionTreeClassifier()\n"
      ],
      "metadata": {
        "id": "2NHYy0qGQqI9"
      },
      "execution_count": null,
      "outputs": []
    },
    {
      "cell_type": "code",
      "source": [
        "gs_dt=GridSearchCV(dt,\n",
        "                gp_dt,\n",
        "                verbose=1,\n",
        "                cv=15,\n",
        "                n_jobs=-1)"
      ],
      "metadata": {
        "id": "-xK7APepQrPV"
      },
      "execution_count": null,
      "outputs": []
    },
    {
      "cell_type": "code",
      "source": [
        "dt_final = gs_dt.fit(X_train, y_train)\n"
      ],
      "metadata": {
        "colab": {
          "base_uri": "https://localhost:8080/"
        },
        "id": "Fc7LWqhlQssj",
        "outputId": "aab7548d-408f-4ef6-ffcd-466a6f0d66bf"
      },
      "execution_count": null,
      "outputs": [
        {
          "output_type": "stream",
          "name": "stdout",
          "text": [
            "Fitting 15 folds for each of 32 candidates, totalling 480 fits\n"
          ]
        }
      ]
    },
    {
      "cell_type": "code",
      "source": [
        "dt_final.best_params_"
      ],
      "metadata": {
        "colab": {
          "base_uri": "https://localhost:8080/"
        },
        "id": "FaPaL4xfQt73",
        "outputId": "09ada0ac-724d-426c-bf84-6f4e5e6f4850"
      },
      "execution_count": null,
      "outputs": [
        {
          "output_type": "execute_result",
          "data": {
            "text/plain": [
              "{'criterion': 'gini', 'max_depth': 9, 'splitter': 'best'}"
            ]
          },
          "metadata": {},
          "execution_count": 95
        }
      ]
    },
    {
      "cell_type": "markdown",
      "source": [
        "Final Decision Trees Model\n"
      ],
      "metadata": {
        "id": "xP2A3QRZQ3US"
      }
    },
    {
      "cell_type": "code",
      "source": [
        "dt = DecisionTreeClassifier(criterion= 'gini', max_depth= 9\n",
        "                            , splitter= 'best')\n",
        "#Training on decision tree classifier\n",
        "model_dt = dt.fit(X_train, y_train)\n",
        "\n",
        "#Predicting on test data\n",
        "predicted = model_dt.predict(X_test)\n",
        "\n",
        "#Checking accuracy\n",
        "print(\"Decision Tree Classifier Accuracy: {0}\".format(accuracy_score(y_test, predicted)*100))"
      ],
      "metadata": {
        "colab": {
          "base_uri": "https://localhost:8080/"
        },
        "id": "lQxpNXsEQv5p",
        "outputId": "72957c05-0752-4c61-fd25-a756bd5fa21d"
      },
      "execution_count": null,
      "outputs": [
        {
          "output_type": "stream",
          "name": "stdout",
          "text": [
            "Decision Tree Classifier Accuracy: 79.82708933717579\n"
          ]
        }
      ]
    },
    {
      "cell_type": "code",
      "source": [
        "print(classification_report(y_test, model_dt.predict(X_test)))"
      ],
      "metadata": {
        "colab": {
          "base_uri": "https://localhost:8080/"
        },
        "id": "cS7ZUIBtgV12",
        "outputId": "4ee08618-0ae2-43f3-cc1a-69f9337d65f4"
      },
      "execution_count": null,
      "outputs": [
        {
          "output_type": "stream",
          "name": "stdout",
          "text": [
            "              precision    recall  f1-score   support\n",
            "\n",
            "         bot       0.73      0.59      0.65       224\n",
            "       human       0.82      0.90      0.86       470\n",
            "\n",
            "    accuracy                           0.80       694\n",
            "   macro avg       0.78      0.74      0.76       694\n",
            "weighted avg       0.79      0.80      0.79       694\n",
            "\n"
          ]
        }
      ]
    },
    {
      "cell_type": "code",
      "source": [
        "plot_confusion_matrix(confusion_matrix(y_test ,predicted),target_names=['bot','human'], normalize = False, \\\n",
        "                      title = 'Confusion matix of Decision Trees on val data')"
      ],
      "metadata": {
        "colab": {
          "base_uri": "https://localhost:8080/",
          "height": 311
        },
        "id": "mBnuj24Bp_zT",
        "outputId": "f89ac48d-1c54-4e34-85f1-de1b4d0bd1d8"
      },
      "execution_count": null,
      "outputs": [
        {
          "output_type": "display_data",
          "data": {
            "text/plain": [
              "<Figure size 360x288 with 2 Axes>"
            ],
            "image/png": "[encoded data removed]"
          },
          "metadata": {
            "needs_background": "light"
          }
        }
      ]
    },
    {
      "cell_type": "markdown",
      "source": [
        "## Gradient Boost Classifier"
      ],
      "metadata": {
        "id": "xneI5iRGd0TR"
      }
    },
    {
      "cell_type": "code",
      "source": [
        "pip install xgboost"
      ],
      "metadata": {
        "colab": {
          "base_uri": "https://localhost:8080/"
        },
        "id": "Sm_lcoBQdPLw",
        "outputId": "97585d6a-c613-4ec6-cdcf-d317fefabf89"
      },
      "execution_count": null,
      "outputs": [
        {
          "output_type": "stream",
          "name": "stdout",
          "text": [
            "Requirement already satisfied: xgboost in /usr/local/lib/python3.7/dist-packages (0.90)\n",
            "Requirement already satisfied: numpy in /usr/local/lib/python3.7/dist-packages (from xgboost) (1.21.6)\n",
            "Requirement already satisfied: scipy in /usr/local/lib/python3.7/dist-packages (from xgboost) (1.4.1)\n"
          ]
        }
      ]
    },
    {
      "cell_type": "code",
      "source": [
        "from sklearn.metrics import classification_report\n",
        "from sklearn.model_selection import KFold\n",
        "from sklearn.ensemble import GradientBoostingClassifier"
      ],
      "metadata": {
        "id": "fLNUNlO_RClH"
      },
      "execution_count": null,
      "outputs": []
    },
    {
      "cell_type": "code",
      "source": [
        "gb= GradientBoostingClassifier(learning_rate=0.1)\n",
        "gb.get_params()"
      ],
      "metadata": {
        "colab": {
          "base_uri": "https://localhost:8080/"
        },
        "id": "eb30Y3USfTUR",
        "outputId": "dda1652c-43d7-4514-c144-32d8e60536ac"
      },
      "execution_count": null,
      "outputs": [
        {
          "output_type": "execute_result",
          "data": {
            "text/plain": [
              "{'ccp_alpha': 0.0,\n",
              " 'criterion': 'friedman_mse',\n",
              " 'init': None,\n",
              " 'learning_rate': 0.1,\n",
              " 'loss': 'deviance',\n",
              " 'max_depth': 3,\n",
              " 'max_features': None,\n",
              " 'max_leaf_nodes': None,\n",
              " 'min_impurity_decrease': 0.0,\n",
              " 'min_samples_leaf': 1,\n",
              " 'min_samples_split': 2,\n",
              " 'min_weight_fraction_leaf': 0.0,\n",
              " 'n_estimators': 100,\n",
              " 'n_iter_no_change': None,\n",
              " 'random_state': None,\n",
              " 'subsample': 1.0,\n",
              " 'tol': 0.0001,\n",
              " 'validation_fraction': 0.1,\n",
              " 'verbose': 0,\n",
              " 'warm_start': False}"
            ]
          },
          "metadata": {},
          "execution_count": 101
        }
      ]
    },
    {
      "cell_type": "code",
      "source": [
        "# A parameter grid for XGBoost\n",
        "gp_gb= {\n",
        "    \"loss\":[\"deviance\"],\n",
        "    \"max_depth\":[40,60,80],\n",
        "    \"subsample\":[0.5, 0.618, 1.0],\n",
        "    \"n_estimators\":[10]\n",
        "    }"
      ],
      "metadata": {
        "id": "WICHAnkFrFN7"
      },
      "execution_count": null,
      "outputs": []
    },
    {
      "cell_type": "code",
      "source": [
        "gs_gb=GridSearchCV(gb,\n",
        "                gp_gb,\n",
        "                verbose=1,\n",
        "                cv=5,\n",
        "                n_jobs=-1)"
      ],
      "metadata": {
        "id": "1YgYoPNvrIkT"
      },
      "execution_count": null,
      "outputs": []
    },
    {
      "cell_type": "code",
      "source": [
        "gb_final=gs_gb.fit(X_train, y_train)\n",
        "gb_final.best_params_"
      ],
      "metadata": {
        "colab": {
          "base_uri": "https://localhost:8080/"
        },
        "id": "xO-HZUKIrNI4",
        "outputId": "678a3f80-dccf-4a05-c3c9-c2e7530301cb"
      },
      "execution_count": null,
      "outputs": [
        {
          "output_type": "stream",
          "name": "stdout",
          "text": [
            "Fitting 5 folds for each of 9 candidates, totalling 45 fits\n"
          ]
        },
        {
          "output_type": "execute_result",
          "data": {
            "text/plain": [
              "{'loss': 'deviance', 'max_depth': 80, 'n_estimators': 10, 'subsample': 0.618}"
            ]
          },
          "metadata": {},
          "execution_count": 104
        }
      ]
    },
    {
      "cell_type": "code",
      "source": [
        "gb= GradientBoostingClassifier(loss=\"deviance\",\n",
        "                               max_depth=60,\n",
        "                               n_estimators=12,\n",
        "                               subsample=0.618,\n",
        "learning_rate=0.1)\n",
        "model_gb = gb.fit(X_train, y_train)\n",
        "\n",
        "#Predicting on test data\n",
        "predicted = model_gb.predict(X_test)\n",
        "\n",
        "#Checking accuracy\n",
        "print(\"Gradient Boost Classifier Accuracy: {0}\".format(accuracy_score(y_test, predicted)*100))"
      ],
      "metadata": {
        "colab": {
          "base_uri": "https://localhost:8080/"
        },
        "id": "-BKRnaPmdkIF",
        "outputId": "4a19b576-7c01-4861-a8b4-4179bc7b6dd7"
      },
      "execution_count": null,
      "outputs": [
        {
          "output_type": "stream",
          "name": "stdout",
          "text": [
            "Gradient Boost Classifier Accuracy: 80.69164265129683\n"
          ]
        }
      ]
    },
    {
      "cell_type": "code",
      "source": [
        "print(classification_report(y_test, model_gb.predict(X_test)))"
      ],
      "metadata": {
        "colab": {
          "base_uri": "https://localhost:8080/"
        },
        "id": "nYlg-LVmgAlW",
        "outputId": "1bf4218b-3aff-4c80-b158-73e54d5a7a96"
      },
      "execution_count": null,
      "outputs": [
        {
          "output_type": "stream",
          "name": "stdout",
          "text": [
            "              precision    recall  f1-score   support\n",
            "\n",
            "         bot       0.73      0.63      0.68       224\n",
            "       human       0.83      0.89      0.86       470\n",
            "\n",
            "    accuracy                           0.81       694\n",
            "   macro avg       0.78      0.76      0.77       694\n",
            "weighted avg       0.80      0.81      0.80       694\n",
            "\n"
          ]
        }
      ]
    },
    {
      "cell_type": "code",
      "source": [
        "plot_confusion_matrix(confusion_matrix(y_test ,predicted),target_names=['bot','human'], normalize = False, \\\n",
        "                      title = 'Confusion matix of Gradient Boost Regression on val data')"
      ],
      "metadata": {
        "colab": {
          "base_uri": "https://localhost:8080/",
          "height": 311
        },
        "id": "MsaoLSOJp4qz",
        "outputId": "70b545e6-e022-42eb-9734-920859ef2ccc"
      },
      "execution_count": null,
      "outputs": [
        {
          "output_type": "display_data",
          "data": {
            "text/plain": [
              "<Figure size 360x288 with 2 Axes>"
            ],
            "image/png": "[encoded data removed]"
          },
          "metadata": {
            "needs_background": "light"
          }
        }
      ]
    },
    {
      "cell_type": "markdown",
      "source": [
        "## **Logistic Regression**"
      ],
      "metadata": {
        "id": "wX6VX5Qzgufz"
      }
    },
    {
      "cell_type": "code",
      "source": [
        "#Using Logistic Regression Classifier\n",
        "from sklearn.linear_model import LogisticRegression"
      ],
      "metadata": {
        "id": "UCSHMAvRgyte"
      },
      "execution_count": null,
      "outputs": []
    },
    {
      "cell_type": "code",
      "source": [
        "c=[]\n",
        "a=1\n",
        "for i in range(10,51):\n",
        "  c.append(i/10)"
      ],
      "metadata": {
        "id": "b6B1tUzYg7S8"
      },
      "execution_count": null,
      "outputs": []
    },
    {
      "cell_type": "code",
      "source": [
        "lr = LogisticRegression()\n",
        "gp_lr={'C' : c,\n",
        "             'solver':['lbfgs', 'liblinear', 'sag', 'saga']}"
      ],
      "metadata": {
        "id": "gxKgxEIeg8yf"
      },
      "execution_count": null,
      "outputs": []
    },
    {
      "cell_type": "code",
      "source": [
        "gs_lr=GridSearchCV(lr,\n",
        "                gp_lr,\n",
        "                verbose=1,\n",
        "                cv=5,\n",
        "                n_jobs=-1)"
      ],
      "metadata": {
        "id": "7spnzIEbg-rr"
      },
      "execution_count": null,
      "outputs": []
    },
    {
      "cell_type": "code",
      "source": [
        "lr_final=gs_lr.fit(X_train, y_train)\n",
        "lr_final.best_params_"
      ],
      "metadata": {
        "colab": {
          "base_uri": "https://localhost:8080/"
        },
        "id": "ou4Q-_SzhCKt",
        "outputId": "477a3978-c55a-4e5b-e610-648cb0dfc34b"
      },
      "execution_count": null,
      "outputs": [
        {
          "output_type": "stream",
          "name": "stdout",
          "text": [
            "Fitting 5 folds for each of 164 candidates, totalling 820 fits\n"
          ]
        },
        {
          "output_type": "execute_result",
          "data": {
            "text/plain": [
              "{'C': 1.0, 'solver': 'lbfgs'}"
            ]
          },
          "metadata": {},
          "execution_count": 112
        }
      ]
    },
    {
      "cell_type": "markdown",
      "source": [
        "Final Logistic Regression Model"
      ],
      "metadata": {
        "id": "V4EEa3m1hFlR"
      }
    },
    {
      "cell_type": "code",
      "source": [
        "lr = LogisticRegression(C=1.0, solver='lbfgs')\n",
        "#Training on Logisic Regression classifier\n",
        "model_lr = lr.fit(X_train, y_train)\n",
        "\n",
        "#Predicting on test data\n",
        "predicted = model_lr.predict(X_test)\n",
        "\n",
        "#Checking accuracy\n",
        "print(\"Logistic Regression Classifier Accuracy: {0}\".format(accuracy_score(y_test, predicted)*100))"
      ],
      "metadata": {
        "colab": {
          "base_uri": "https://localhost:8080/"
        },
        "id": "Km9iCibdhK_k",
        "outputId": "df4e3552-fa87-4ed0-ab65-c3c0fa0da1b2"
      },
      "execution_count": null,
      "outputs": [
        {
          "output_type": "stream",
          "name": "stdout",
          "text": [
            "Logistic Regression Classifier Accuracy: 67.43515850144092\n"
          ]
        }
      ]
    },
    {
      "cell_type": "code",
      "source": [
        "print(classification_report(y_test, model_lr.predict(X_test)))"
      ],
      "metadata": {
        "colab": {
          "base_uri": "https://localhost:8080/"
        },
        "id": "w0VczaDKhgY4",
        "outputId": "85fee0eb-2f21-488e-9233-3e73496e7aac"
      },
      "execution_count": null,
      "outputs": [
        {
          "output_type": "stream",
          "name": "stdout",
          "text": [
            "              precision    recall  f1-score   support\n",
            "\n",
            "         bot       0.49      0.21      0.30       224\n",
            "       human       0.70      0.89      0.79       470\n",
            "\n",
            "    accuracy                           0.67       694\n",
            "   macro avg       0.60      0.55      0.54       694\n",
            "weighted avg       0.64      0.67      0.63       694\n",
            "\n"
          ]
        }
      ]
    },
    {
      "cell_type": "code",
      "source": [
        "plot_confusion_matrix(confusion_matrix(y_test ,predicted),target_names=['bot','human'], normalize = False, \\\n",
        "                      title = 'Confusion matix of Logistic Regression on val data')"
      ],
      "metadata": {
        "colab": {
          "base_uri": "https://localhost:8080/",
          "height": 311
        },
        "id": "UTPoxfVtpARV",
        "outputId": "93b12d2e-7f8b-4a3b-d998-fe7fe95422b8"
      },
      "execution_count": null,
      "outputs": [
        {
          "output_type": "display_data",
          "data": {
            "text/plain": [
              "<Figure size 360x288 with 2 Axes>"
            ],
            "image/png": "[encoded data removed]"
          },
          "metadata": {
            "needs_background": "light"
          }
        }
      ]
    },
    {
      "cell_type": "markdown",
      "source": [
        "## **Support Vector Machines**"
      ],
      "metadata": {
        "id": "gWZPWusdhlWT"
      }
    },
    {
      "cell_type": "code",
      "source": [
        "from sklearn.svm import SVC"
      ],
      "metadata": {
        "id": "ONKXSWJMhvPT"
      },
      "execution_count": null,
      "outputs": []
    },
    {
      "cell_type": "code",
      "source": [
        "svm=SVC()\n",
        "gp_svm= {'C': [0.1, 1, 10, 100, 1000],\n",
        "              'gamma': [1, 0.1, 0.01, 0.001, 0.0001],\n",
        "              'kernel': ['rbf']}"
      ],
      "metadata": {
        "id": "uhSbIT2Zh1zT"
      },
      "execution_count": null,
      "outputs": []
    },
    {
      "cell_type": "code",
      "source": [
        "gs_svm=GridSearchCV(svm,\n",
        "                gp_svm,\n",
        "                verbose=1,\n",
        "                cv=5,\n",
        "                n_jobs=-1)"
      ],
      "metadata": {
        "id": "_2E4xtjCiEWO"
      },
      "execution_count": null,
      "outputs": []
    },
    {
      "cell_type": "code",
      "source": [
        "svm_final=gs_svm.fit(X_train, y_train)\n",
        "svm_final.best_params_"
      ],
      "metadata": {
        "colab": {
          "base_uri": "https://localhost:8080/"
        },
        "id": "bwawLPPZiYNa",
        "outputId": "44841149-43da-45d3-9ef6-ed6b5d2b6710"
      },
      "execution_count": null,
      "outputs": [
        {
          "output_type": "stream",
          "name": "stdout",
          "text": [
            "Fitting 5 folds for each of 25 candidates, totalling 125 fits\n"
          ]
        },
        {
          "output_type": "execute_result",
          "data": {
            "text/plain": [
              "{'C': 1000, 'gamma': 0.0001, 'kernel': 'rbf'}"
            ]
          },
          "metadata": {},
          "execution_count": 119
        }
      ]
    },
    {
      "cell_type": "markdown",
      "source": [
        "Final SVM Model"
      ],
      "metadata": {
        "id": "WbBCoPyxmFCV"
      }
    },
    {
      "cell_type": "code",
      "source": [
        "svm = SVC(C=100, gamma=0.0001, kernel='rbf')\n",
        "#Training on Logisic Regression classifier\n",
        "model_svm = svm.fit(X_train, y_train)\n",
        "\n",
        "#Predicting on test data\n",
        "predicted = model_svm.predict(X_test)\n",
        "\n",
        "#Checking accuracy\n",
        "print(\"Logistic Regression Classifier Accuracy: {0}\".format(accuracy_score(y_test, predicted)*100))"
      ],
      "metadata": {
        "colab": {
          "base_uri": "https://localhost:8080/"
        },
        "id": "n-I9wFMek7DO",
        "outputId": "29d61f28-d88b-4d5e-fc9d-e2c2336bbd60"
      },
      "execution_count": null,
      "outputs": [
        {
          "output_type": "stream",
          "name": "stdout",
          "text": [
            "Logistic Regression Classifier Accuracy: 81.12391930835734\n"
          ]
        }
      ]
    },
    {
      "cell_type": "code",
      "source": [
        "print(classification_report(y_test, model_svm.predict(X_test)))"
      ],
      "metadata": {
        "colab": {
          "base_uri": "https://localhost:8080/"
        },
        "id": "WUwJq7eqmKhK",
        "outputId": "a7d49509-465f-4c42-b8be-f3abda74b110"
      },
      "execution_count": null,
      "outputs": [
        {
          "output_type": "stream",
          "name": "stdout",
          "text": [
            "              precision    recall  f1-score   support\n",
            "\n",
            "         bot       0.90      0.47      0.62       224\n",
            "       human       0.79      0.97      0.87       470\n",
            "\n",
            "    accuracy                           0.81       694\n",
            "   macro avg       0.85      0.72      0.75       694\n",
            "weighted avg       0.83      0.81      0.79       694\n",
            "\n"
          ]
        }
      ]
    },
    {
      "cell_type": "code",
      "source": [
        "plot_confusion_matrix(confusion_matrix(y_test ,predicted),target_names=['bot','human'], normalize = False, \\\n",
        "                      title = 'Confusion matix of SVM on val data')"
      ],
      "metadata": {
        "colab": {
          "base_uri": "https://localhost:8080/"
        },
        "id": "11UYnFzTmvXN",
        "outputId": "0ee08945-5eb9-4de5-c06e-5d3998712afc"
      },
      "execution_count": null,
      "outputs": [
        {
          "output_type": "display_data",
          "data": {
            "text/plain": [
              "<Figure size 360x288 with 2 Axes>"
            ],
            "image/png": "[encoded data removed]"
          },
          "metadata": {
            "needs_background": "light"
          }
        }
      ]
    },
    {
      "cell_type": "markdown",
      "source": [
        "## **Implementing model on Tweets**"
      ],
      "metadata": {
        "id": "trE0Zy7pRCzE"
      }
    },
    {
      "cell_type": "code",
      "source": [
        "def vectorize_user(bots, condition):\n",
        "  bots['screen_name'] = (bots.name.str.contains(\"bot\", case=False)==True)\n",
        "  bots['description'] = (bots.des.str.contains(\"bot\", case=False)==True)\n",
        "  return bots"
      ],
      "metadata": {
        "id": "uye29h5BQ5Cx"
      },
      "execution_count": null,
      "outputs": []
    },
    {
      "cell_type": "code",
      "source": [
        "pip install gradio"
      ],
      "metadata": {
        "id": "SqDfBo-6RFPC",
        "colab": {
          "base_uri": "https://localhost:8080/"
        },
        "outputId": "4ae2bcad-9fb4-49c3-948e-50045478b4db"
      },
      "execution_count": null,
      "outputs": [
        {
          "output_type": "stream",
          "name": "stdout",
          "text": [
            "Collecting gradio\n",
            "  Downloading gradio-2.9.4-py3-none-any.whl (2.9 MB)\n",
            "\u001b[K     |████████████████████████████████| 2.9 MB 12.7 MB/s \n",
            "\u001b[?25hRequirement already satisfied: pandas in /usr/local/lib/python3.7/dist-packages (from gradio) (1.3.5)\n",
            "Requirement already satisfied: pillow in /usr/local/lib/python3.7/dist-packages (from gradio) (7.1.2)\n",
            "Requirement already satisfied: Jinja2 in /usr/local/lib/python3.7/dist-packages (from gradio) (2.11.3)\n",
            "Requirement already satisfied: requests in /usr/local/lib/python3.7/dist-packages (from gradio) (2.23.0)\n",
            "Collecting uvicorn\n",
            "  Downloading uvicorn-0.17.6-py3-none-any.whl (53 kB)\n",
            "\u001b[K     |████████████████████████████████| 53 kB 1.6 MB/s \n",
            "\u001b[?25hCollecting ffmpy\n",
            "  Downloading ffmpy-0.3.0.tar.gz (4.8 kB)\n",
            "Collecting paramiko\n",
            "  Downloading paramiko-2.10.4-py2.py3-none-any.whl (212 kB)\n",
            "\u001b[K     |████████████████████████████████| 212 kB 78.0 MB/s \n",
            "\u001b[?25hCollecting orjson\n",
            "  Downloading orjson-3.6.8-cp37-cp37m-manylinux_2_24_x86_64.whl (253 kB)\n",
            "\u001b[K     |████████████████████████████████| 253 kB 87.9 MB/s \n",
            "\u001b[?25hCollecting python-multipart\n",
            "  Downloading python-multipart-0.0.5.tar.gz (32 kB)\n",
            "Collecting pydub\n",
            "  Downloading pydub-0.25.1-py2.py3-none-any.whl (32 kB)\n",
            "Collecting analytics-python\n",
            "  Downloading analytics_python-1.4.0-py2.py3-none-any.whl (15 kB)\n",
            "Collecting aiohttp\n",
            "  Downloading aiohttp-3.8.1-cp37-cp37m-manylinux_2_5_x86_64.manylinux1_x86_64.manylinux_2_12_x86_64.manylinux2010_x86_64.whl (1.1 MB)\n",
            "\u001b[K     |████████████████████████████████| 1.1 MB 59.7 MB/s \n",
            "\u001b[?25hCollecting markdown-it-py[linkify,plugins]\n",
            "  Downloading markdown_it_py-2.1.0-py3-none-any.whl (84 kB)\n",
            "\u001b[K     |████████████████████████████████| 84 kB 2.9 MB/s \n",
            "\u001b[?25hRequirement already satisfied: matplotlib in /usr/local/lib/python3.7/dist-packages (from gradio) (3.2.2)\n",
            "Collecting fastapi\n",
            "  Downloading fastapi-0.75.2-py3-none-any.whl (54 kB)\n",
            "\u001b[K     |████████████████████████████████| 54 kB 2.6 MB/s \n",
            "\u001b[?25hRequirement already satisfied: numpy in /usr/local/lib/python3.7/dist-packages (from gradio) (1.21.6)\n",
            "Collecting pycryptodome\n",
            "  Downloading pycryptodome-3.14.1-cp35-abi3-manylinux2010_x86_64.whl (2.0 MB)\n",
            "\u001b[K     |████████████████████████████████| 2.0 MB 53.2 MB/s \n",
            "\u001b[?25hCollecting aiosignal>=1.1.2\n",
            "  Downloading aiosignal-1.2.0-py3-none-any.whl (8.2 kB)\n",
            "Collecting async-timeout<5.0,>=4.0.0a3\n",
            "  Downloading async_timeout-4.0.2-py3-none-any.whl (5.8 kB)\n",
            "Collecting frozenlist>=1.1.1\n",
            "  Downloading frozenlist-1.3.0-cp37-cp37m-manylinux_2_5_x86_64.manylinux1_x86_64.manylinux_2_17_x86_64.manylinux2014_x86_64.whl (144 kB)\n",
            "\u001b[K     |████████████████████████████████| 144 kB 83.1 MB/s \n",
            "\u001b[?25hRequirement already satisfied: attrs>=17.3.0 in /usr/local/lib/python3.7/dist-packages (from aiohttp->gradio) (21.4.0)\n",
            "Collecting asynctest==0.13.0\n",
            "  Downloading asynctest-0.13.0-py3-none-any.whl (26 kB)\n",
            "Collecting multidict<7.0,>=4.5\n",
            "  Downloading multidict-6.0.2-cp37-cp37m-manylinux_2_17_x86_64.manylinux2014_x86_64.whl (94 kB)\n",
            "\u001b[K     |████████████████████████████████| 94 kB 2.7 MB/s \n",
            "\u001b[?25hCollecting yarl<2.0,>=1.0\n",
            "  Downloading yarl-1.7.2-cp37-cp37m-manylinux_2_5_x86_64.manylinux1_x86_64.manylinux_2_12_x86_64.manylinux2010_x86_64.whl (271 kB)\n",
            "\u001b[K     |████████████████████████████████| 271 kB 69.1 MB/s \n",
            "\u001b[?25hRequirement already satisfied: typing-extensions>=3.7.4 in /usr/local/lib/python3.7/dist-packages (from aiohttp->gradio) (4.2.0)\n",
            "Requirement already satisfied: charset-normalizer<3.0,>=2.0 in /usr/local/lib/python3.7/dist-packages (from aiohttp->gradio) (2.0.12)\n",
            "Requirement already satisfied: idna>=2.0 in /usr/local/lib/python3.7/dist-packages (from yarl<2.0,>=1.0->aiohttp->gradio) (2.10)\n",
            "Collecting monotonic>=1.5\n",
            "  Downloading monotonic-1.6-py2.py3-none-any.whl (8.2 kB)\n",
            "Collecting backoff==1.10.0\n",
            "  Downloading backoff-1.10.0-py2.py3-none-any.whl (31 kB)\n",
            "Requirement already satisfied: six>=1.5 in /usr/local/lib/python3.7/dist-packages (from analytics-python->gradio) (1.15.0)\n",
            "Requirement already satisfied: python-dateutil>2.1 in /usr/local/lib/python3.7/dist-packages (from analytics-python->gradio) (2.8.2)\n",
            "Requirement already satisfied: urllib3!=1.25.0,!=1.25.1,<1.26,>=1.21.1 in /usr/local/lib/python3.7/dist-packages (from requests->gradio) (1.24.3)\n",
            "Requirement already satisfied: chardet<4,>=3.0.2 in /usr/local/lib/python3.7/dist-packages (from requests->gradio) (3.0.4)\n",
            "Requirement already satisfied: certifi>=2017.4.17 in /usr/local/lib/python3.7/dist-packages (from requests->gradio) (2021.10.8)\n",
            "Collecting starlette==0.17.1\n",
            "  Downloading starlette-0.17.1-py3-none-any.whl (58 kB)\n",
            "\u001b[K     |████████████████████████████████| 58 kB 4.0 MB/s \n",
            "\u001b[?25hCollecting pydantic!=1.7,!=1.7.1,!=1.7.2,!=1.7.3,!=1.8,!=1.8.1,<2.0.0,>=1.6.2\n",
            "  Downloading pydantic-1.9.0-cp37-cp37m-manylinux_2_17_x86_64.manylinux2014_x86_64.whl (10.9 MB)\n",
            "\u001b[K     |████████████████████████████████| 10.9 MB 48.2 MB/s \n",
            "\u001b[?25hCollecting anyio<4,>=3.0.0\n",
            "  Downloading anyio-3.5.0-py3-none-any.whl (79 kB)\n",
            "\u001b[K     |████████████████████████████████| 79 kB 7.6 MB/s \n",
            "\u001b[?25hCollecting sniffio>=1.1\n",
            "  Downloading sniffio-1.2.0-py3-none-any.whl (10 kB)\n",
            "Requirement already satisfied: MarkupSafe>=0.23 in /usr/local/lib/python3.7/dist-packages (from Jinja2->gradio) (2.0.1)\n",
            "Collecting mdurl~=0.1\n",
            "  Downloading mdurl-0.1.1-py3-none-any.whl (10 kB)\n",
            "Collecting mdit-py-plugins\n",
            "  Downloading mdit_py_plugins-0.3.0-py3-none-any.whl (43 kB)\n",
            "\u001b[K     |████████████████████████████████| 43 kB 1.5 MB/s \n",
            "\u001b[?25hCollecting linkify-it-py~=1.0\n",
            "  Downloading linkify_it_py-1.0.3-py3-none-any.whl (19 kB)\n",
            "Collecting uc-micro-py\n",
            "  Downloading uc_micro_py-1.0.1-py3-none-any.whl (6.2 kB)\n",
            "Requirement already satisfied: kiwisolver>=1.0.1 in /usr/local/lib/python3.7/dist-packages (from matplotlib->gradio) (1.4.2)\n",
            "Requirement already satisfied: pyparsing!=2.0.4,!=2.1.2,!=2.1.6,>=2.0.1 in /usr/local/lib/python3.7/dist-packages (from matplotlib->gradio) (3.0.8)\n",
            "Requirement already satisfied: cycler>=0.10 in /usr/local/lib/python3.7/dist-packages (from matplotlib->gradio) (0.11.0)\n",
            "Requirement already satisfied: pytz>=2017.3 in /usr/local/lib/python3.7/dist-packages (from pandas->gradio) (2022.1)\n",
            "Collecting cryptography>=2.5\n",
            "  Downloading cryptography-37.0.2-cp36-abi3-manylinux_2_24_x86_64.whl (4.0 MB)\n",
            "\u001b[K     |████████████████████████████████| 4.0 MB 40.6 MB/s \n",
            "\u001b[?25hCollecting bcrypt>=3.1.3\n",
            "  Downloading bcrypt-3.2.2-cp36-abi3-manylinux_2_17_x86_64.manylinux2014_x86_64.manylinux_2_24_x86_64.whl (62 kB)\n",
            "\u001b[K     |████████████████████████████████| 62 kB 803 kB/s \n",
            "\u001b[?25hCollecting pynacl>=1.0.1\n",
            "  Downloading PyNaCl-1.5.0-cp36-abi3-manylinux_2_17_x86_64.manylinux2014_x86_64.manylinux_2_24_x86_64.whl (856 kB)\n",
            "\u001b[K     |████████████████████████████████| 856 kB 60.5 MB/s \n",
            "\u001b[?25hRequirement already satisfied: cffi>=1.1 in /usr/local/lib/python3.7/dist-packages (from bcrypt>=3.1.3->paramiko->gradio) (1.15.0)\n",
            "Requirement already satisfied: pycparser in /usr/local/lib/python3.7/dist-packages (from cffi>=1.1->bcrypt>=3.1.3->paramiko->gradio) (2.21)\n",
            "Collecting asgiref>=3.4.0\n",
            "  Downloading asgiref-3.5.1-py3-none-any.whl (22 kB)\n",
            "Requirement already satisfied: click>=7.0 in /usr/local/lib/python3.7/dist-packages (from uvicorn->gradio) (7.1.2)\n",
            "Collecting h11>=0.8\n",
            "  Downloading h11-0.13.0-py3-none-any.whl (58 kB)\n",
            "\u001b[K     |████████████████████████████████| 58 kB 4.4 MB/s \n",
            "\u001b[?25hBuilding wheels for collected packages: ffmpy, python-multipart\n",
            "  Building wheel for ffmpy (setup.py) ... \u001b[?25l\u001b[?25hdone\n",
            "  Created wheel for ffmpy: filename=ffmpy-0.3.0-py3-none-any.whl size=4712 sha256=9bf78936f15faef3310a900b63dc7b1f05b4c6af1e7a73eb0e696c218cc8e7d6\n",
            "  Stored in directory: /root/.cache/pip/wheels/13/e4/6c/e8059816e86796a597c6e6b0d4c880630f51a1fcfa0befd5e6\n",
            "  Building wheel for python-multipart (setup.py) ... \u001b[?25l\u001b[?25hdone\n",
            "  Created wheel for python-multipart: filename=python_multipart-0.0.5-py3-none-any.whl size=31678 sha256=f8ea988a706b0450d8a6442be8d442f6fb5c14d1de36a2a3453a70e480632972\n",
            "  Stored in directory: /root/.cache/pip/wheels/2c/41/7c/bfd1c180534ffdcc0972f78c5758f89881602175d48a8bcd2c\n",
            "Successfully built ffmpy python-multipart\n",
            "Installing collected packages: sniffio, mdurl, uc-micro-py, multidict, markdown-it-py, frozenlist, anyio, yarl, starlette, pynacl, pydantic, monotonic, mdit-py-plugins, linkify-it-py, h11, cryptography, bcrypt, backoff, asynctest, async-timeout, asgiref, aiosignal, uvicorn, python-multipart, pydub, pycryptodome, paramiko, orjson, ffmpy, fastapi, analytics-python, aiohttp, gradio\n",
            "Successfully installed aiohttp-3.8.1 aiosignal-1.2.0 analytics-python-1.4.0 anyio-3.5.0 asgiref-3.5.1 async-timeout-4.0.2 asynctest-0.13.0 backoff-1.10.0 bcrypt-3.2.2 cryptography-37.0.2 fastapi-0.75.2 ffmpy-0.3.0 frozenlist-1.3.0 gradio-2.9.4 h11-0.13.0 linkify-it-py-1.0.3 markdown-it-py-2.1.0 mdit-py-plugins-0.3.0 mdurl-0.1.1 monotonic-1.6 multidict-6.0.2 orjson-3.6.8 paramiko-2.10.4 pycryptodome-3.14.1 pydantic-1.9.0 pydub-0.25.1 pynacl-1.5.0 python-multipart-0.0.5 sniffio-1.2.0 starlette-0.17.1 uc-micro-py-1.0.1 uvicorn-0.17.6 yarl-1.7.2\n"
          ]
        }
      ]
    },
    {
      "cell_type": "code",
      "source": [
        "import gradio as gr\n",
        "def predict(username):\n",
        "  # fetching the user\n",
        "  user = api.get_user(username)\n",
        "  following = user.friends_count\n",
        "  followers = user.followers_count\n",
        "  screen_name = user.screen_name\n",
        "  ver = user.verified\n",
        "  loc = user.location\n",
        "  des = user.description\n",
        "  stcount=user.statuses_count\n",
        "  pback=user.profile_use_background_image\n",
        "  favcount = user.favourites_count\n",
        "  backtile = user.profile_background_tile\n",
        "  protected = user.protected\n",
        "\n",
        "  ll=[]\n",
        "  \n",
        "  data=[[following,\tfollowers,\tver,\tstcount,\tpback,\tfavcount,\tbacktile,\tprotected,\tscreen_name,\tdes,\tloc ]]\n",
        "  cols=['following',\t'followers',\t'ver',\t'stcount',\t'pback',\t'favcount',\t'backtile',\t'protected','name',\t'des'\t,'loc']\n",
        "  user = pd.DataFrame(data, columns = cols)\n",
        "  \n",
        "  if user['loc'][0]==\"None\":\n",
        "    ll.append(False)\n",
        "  else:\n",
        "    ll.append(True)\n",
        "\n",
        "  user['location']=ll\n",
        "  user=user.drop(['loc'], axis = 1)\n",
        "\n",
        "  #condition = (user.screen_name.str.contains(\"bot\", case=False)==True)|(user.description.str.contains(\"bot\", case=False)==True)|(user.location.isnull())|(user.verified==False)\n",
        "  condition = (user.name.str.contains(\"bot\", case=False)==True)|(user.des.str.contains(\"bot\", case=False)==True)\n",
        "  xd = vectorize_user(user, condition)\n",
        "\n",
        "  \n",
        "\n",
        "  test = xd[['following', 'followers', 'screen_name', 'ver', 'location', 'description', 'stcount', 'pback', 'favcount', 'backtile','protected']]\n",
        "  pred_gb=model_gb.predict(test)\n",
        "  pred_svm=model_svm.predict(test)\n",
        "\n",
        "  if pred_svm[0]==\"human\":\n",
        "    res=0\n",
        "  else:\n",
        "    res = 0 if pred_gb[0]==\"human\" else 1\n",
        "    \n",
        "  return res"
      ],
      "metadata": {
        "id": "DSvcZr9XRI3o",
        "colab": {
          "base_uri": "https://localhost:8080/"
        },
        "outputId": "dbfdde62-238d-4154-aea5-0870931dd905"
      },
      "execution_count": null,
      "outputs": [
        {
          "output_type": "stream",
          "name": "stderr",
          "text": [
            "/usr/local/lib/python3.7/dist-packages/paramiko/transport.py:236: CryptographyDeprecationWarning: Blowfish has been deprecated\n",
            "  \"class\": algorithms.Blowfish,\n"
          ]
        }
      ]
    },
    {
      "cell_type": "code",
      "source": [
        "#Final Detector\n",
        "\n",
        "def detector(username):\n",
        "  print(\"hey\")\n",
        "  info, tweet = inf(username)\n",
        "  bot = predict(username)\n",
        "  if(info==1 and bot==1):\n",
        "    o= \"❌ Information seems highly fake tweeted from a suspecious account 🤖 \"\n",
        "\n",
        "  if(info==1 and bot==0):\n",
        "    o = \"❌ Tweeted Information can be fake 👨 \"\n",
        "\n",
        "  if(info==0 and bot==1):\n",
        "    o = \" ✅ A bot account detected but information can be real 🤖\"\n",
        "  \n",
        "  if(info==0 and bot==0):\n",
        "    o = \"✅ Information is detected to be real 👨\"\n",
        "  \n",
        "  output= \"🐦 \"+tweet+\" \\n \\n\"+o\n",
        "  return output"
      ],
      "metadata": {
        "id": "S7hSkBXYSYDr"
      },
      "execution_count": null,
      "outputs": []
    },
    {
      "cell_type": "code",
      "source": [
        "face = gr.Interface(fn=detector,\n",
        "                    inputs=\"text\", \n",
        "                    outputs=\"text\")\n",
        "\n",
        "face.launch()"
      ],
      "metadata": {
        "id": "ds9NThJeRNdo",
        "colab": {
          "base_uri": "https://localhost:8080/",
          "height": 643
        },
        "outputId": "a2590e2c-23bc-47ba-f672-8e8e3ddb5e5f"
      },
      "execution_count": null,
      "outputs": [
        {
          "output_type": "stream",
          "name": "stdout",
          "text": [
            "Colab notebook detected. To show errors in colab notebook, set `debug=True` in `launch()`\n",
            "Running on public URL: https://27446.gradio.app\n",
            "\n",
            "This share link expires in 72 hours. For free permanent hosting, check out Spaces (https://huggingface.co/spaces)\n"
          ]
        },
        {
          "output_type": "display_data",
          "data": {
            "text/plain": [
              "<IPython.lib.display.IFrame at 0x7faf54e8da50>"
            ],
            "text/html": [
              "\n",
              "        <iframe\n",
              "            width=\"900\"\n",
              "            height=\"500\"\n",
              "            src=\"https://27446.gradio.app\"\n",
              "            frameborder=\"0\"\n",
              "            allowfullscreen\n",
              "        ></iframe>\n",
              "        "
            ]
          },
          "metadata": {}
        },
        {
          "output_type": "execute_result",
          "data": {
            "text/plain": [
              "(<fastapi.applications.FastAPI at 0x7faf543fc510>,\n",
              " 'http://127.0.0.1:7860/',\n",
              " 'https://27446.gradio.app')"
            ]
          },
          "metadata": {},
          "execution_count": 127
        }
      ]
    },
    {
      "cell_type": "code",
      "source": [
        ""
      ],
      "metadata": {
        "id": "GdEEBEik79C-"
      },
      "execution_count": null,
      "outputs": []
    }
  ],
  "metadata": {
    "colab": {
      "collapsed_sections": [],
      "name": "Fake_Information_Detection.ipynb",
      "provenance": []
    },
    "kernelspec": {
      "display_name": "Python 3",
      "name": "python3"
    },
    "language_info": {
      "name": "python"
    }
  },
  "nbformat": 4,
  "nbformat_minor": 0
}